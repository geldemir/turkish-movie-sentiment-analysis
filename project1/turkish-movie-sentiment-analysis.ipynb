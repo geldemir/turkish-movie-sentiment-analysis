{
 "cells": [
  {
   "cell_type": "markdown",
   "id": "3f050d9e",
   "metadata": {},
   "source": [
    "## Libraries"
   ]
  },
  {
   "cell_type": "code",
   "execution_count": 1,
   "id": "c5c72af9",
   "metadata": {},
   "outputs": [],
   "source": [
    "#!pip install sklearn"
   ]
  },
  {
   "cell_type": "code",
   "execution_count": 2,
   "id": "bf3f6ed5",
   "metadata": {},
   "outputs": [],
   "source": [
    "#!pip install langdetect"
   ]
  },
  {
   "cell_type": "code",
   "execution_count": 3,
   "id": "286f0ce2",
   "metadata": {},
   "outputs": [],
   "source": [
    "#!pip install textblob"
   ]
  },
  {
   "cell_type": "code",
   "execution_count": 4,
   "id": "0dda3ed6",
   "metadata": {},
   "outputs": [],
   "source": [
    "#!pip install autocorrect"
   ]
  },
  {
   "cell_type": "code",
   "execution_count": 5,
   "id": "bc76685d",
   "metadata": {},
   "outputs": [],
   "source": [
    "#!pip install nltk"
   ]
  },
  {
   "cell_type": "code",
   "execution_count": 6,
   "id": "0215ed41",
   "metadata": {},
   "outputs": [],
   "source": [
    "import pandas as pd\n",
    "import matplotlib.pyplot as plt\n",
    "%matplotlib inline\n",
    "import seaborn as sns\n",
    "from textblob import TextBlob\n",
    "import numpy as np\n",
    "import scipy as sp\n",
    "from spacy import displacy\n",
    "import sys\n",
    "#import pycountry\n",
    "from langdetect import detect\n",
    "\n",
    "import warnings\n",
    "warnings.filterwarnings(\"ignore\")\n",
    "\n",
    "from wordcloud import WordCloud, STOPWORDS\n",
    "import os\n",
    "from PIL import Image\n",
    "from autocorrect import spell\n",
    "\n",
    "import nltk\n",
    "from nltk.stem import SnowballStemmer\n",
    "from nltk.sentiment.vader import SentimentIntensityAnalyzer\n",
    "from nltk.tokenize import TreebankWordTokenizer\n",
    "from nltk.stem import PorterStemmer\n",
    "from nltk.stem import LancasterStemmer\n",
    "from nltk.stem import RegexpStemmer\n",
    "from nltk.tokenize import word_tokenize\n",
    "from nltk.tokenize import sent_tokenize\n",
    "from nltk.corpus import stopwords\n",
    "from autocorrect import spell\n",
    "\n",
    "from sklearn.feature_extraction.text import CountVectorizer, TfidfVectorizer\n",
    "from sklearn.linear_model import LogisticRegression\n",
    "from sklearn.model_selection import train_test_split\n",
    "from sklearn.metrics import accuracy_score\n",
    "from sklearn.naive_bayes import MultinomialNB\n",
    "from sklearn.metrics import accuracy_score,confusion_matrix"
   ]
  },
  {
   "cell_type": "code",
   "execution_count": 7,
   "id": "9efe7578",
   "metadata": {},
   "outputs": [],
   "source": [
    "df=pd.read_csv(\"turkish_movie_sentiment_dataset.csv\")"
   ]
  },
  {
   "cell_type": "code",
   "execution_count": 8,
   "id": "5d6af8a7",
   "metadata": {},
   "outputs": [
    {
     "data": {
      "text/html": [
       "<div>\n",
       "<style scoped>\n",
       "    .dataframe tbody tr th:only-of-type {\n",
       "        vertical-align: middle;\n",
       "    }\n",
       "\n",
       "    .dataframe tbody tr th {\n",
       "        vertical-align: top;\n",
       "    }\n",
       "\n",
       "    .dataframe thead th {\n",
       "        text-align: right;\n",
       "    }\n",
       "</style>\n",
       "<table border=\"1\" class=\"dataframe\">\n",
       "  <thead>\n",
       "    <tr style=\"text-align: right;\">\n",
       "      <th></th>\n",
       "      <th>comment</th>\n",
       "      <th>film_name</th>\n",
       "      <th>point</th>\n",
       "    </tr>\n",
       "  </thead>\n",
       "  <tbody>\n",
       "    <tr>\n",
       "      <th>0</th>\n",
       "      <td>\\n                      Jean Reno denince zate...</td>\n",
       "      <td>Sevginin Gücü</td>\n",
       "      <td>5,0</td>\n",
       "    </tr>\n",
       "    <tr>\n",
       "      <th>1</th>\n",
       "      <td>\\n                      Ekşın falan izlemek is...</td>\n",
       "      <td>Sevginin Gücü</td>\n",
       "      <td>5,0</td>\n",
       "    </tr>\n",
       "    <tr>\n",
       "      <th>2</th>\n",
       "      <td>\\n                      Bu yapım hakkında öyle...</td>\n",
       "      <td>Sevginin Gücü</td>\n",
       "      <td>5,0</td>\n",
       "    </tr>\n",
       "    <tr>\n",
       "      <th>3</th>\n",
       "      <td>\\n                      finali yeter... (sting...</td>\n",
       "      <td>Sevginin Gücü</td>\n",
       "      <td>5,0</td>\n",
       "    </tr>\n",
       "    <tr>\n",
       "      <th>4</th>\n",
       "      <td>\\n                      Jean Reno..\\r\\nbu adam...</td>\n",
       "      <td>Sevginin Gücü</td>\n",
       "      <td>5,0</td>\n",
       "    </tr>\n",
       "  </tbody>\n",
       "</table>\n",
       "</div>"
      ],
      "text/plain": [
       "                                             comment      film_name point\n",
       "0  \\n                      Jean Reno denince zate...  Sevginin Gücü   5,0\n",
       "1  \\n                      Ekşın falan izlemek is...  Sevginin Gücü   5,0\n",
       "2  \\n                      Bu yapım hakkında öyle...  Sevginin Gücü   5,0\n",
       "3  \\n                      finali yeter... (sting...  Sevginin Gücü   5,0\n",
       "4  \\n                      Jean Reno..\\r\\nbu adam...  Sevginin Gücü   5,0"
      ]
     },
     "execution_count": 8,
     "metadata": {},
     "output_type": "execute_result"
    }
   ],
   "source": [
    "df.head()"
   ]
  },
  {
   "cell_type": "code",
   "execution_count": 9,
   "id": "c61c5592",
   "metadata": {},
   "outputs": [
    {
     "data": {
      "text/html": [
       "<div>\n",
       "<style scoped>\n",
       "    .dataframe tbody tr th:only-of-type {\n",
       "        vertical-align: middle;\n",
       "    }\n",
       "\n",
       "    .dataframe tbody tr th {\n",
       "        vertical-align: top;\n",
       "    }\n",
       "\n",
       "    .dataframe thead th {\n",
       "        text-align: right;\n",
       "    }\n",
       "</style>\n",
       "<table border=\"1\" class=\"dataframe\">\n",
       "  <thead>\n",
       "    <tr style=\"text-align: right;\">\n",
       "      <th></th>\n",
       "      <th>comment</th>\n",
       "      <th>film_name</th>\n",
       "      <th>point</th>\n",
       "    </tr>\n",
       "  </thead>\n",
       "  <tbody>\n",
       "    <tr>\n",
       "      <th>83222</th>\n",
       "      <td>\\n                      Böyle bi kadrodan, bçy...</td>\n",
       "      <td>Kabus</td>\n",
       "      <td>2,5</td>\n",
       "    </tr>\n",
       "    <tr>\n",
       "      <th>83223</th>\n",
       "      <td>\\n                      yani bu kaar ii oyunca...</td>\n",
       "      <td>Kabus</td>\n",
       "      <td>2,5</td>\n",
       "    </tr>\n",
       "    <tr>\n",
       "      <th>83224</th>\n",
       "      <td>\\n                      bugün dvd'sini alıp iz...</td>\n",
       "      <td>Kabus</td>\n",
       "      <td>1,0</td>\n",
       "    </tr>\n",
       "    <tr>\n",
       "      <th>83225</th>\n",
       "      <td>\\n                      Klasik korku ve gerili...</td>\n",
       "      <td>Kabus</td>\n",
       "      <td>4,0</td>\n",
       "    </tr>\n",
       "    <tr>\n",
       "      <th>83226</th>\n",
       "      <td>\\n                      Bence gereğinden fazla...</td>\n",
       "      <td>Bir Zamanlar... Hollywood'da</td>\n",
       "      <td>4,6</td>\n",
       "    </tr>\n",
       "  </tbody>\n",
       "</table>\n",
       "</div>"
      ],
      "text/plain": [
       "                                                 comment  \\\n",
       "83222  \\n                      Böyle bi kadrodan, bçy...   \n",
       "83223  \\n                      yani bu kaar ii oyunca...   \n",
       "83224  \\n                      bugün dvd'sini alıp iz...   \n",
       "83225  \\n                      Klasik korku ve gerili...   \n",
       "83226  \\n                      Bence gereğinden fazla...   \n",
       "\n",
       "                          film_name point  \n",
       "83222                         Kabus   2,5  \n",
       "83223                         Kabus   2,5  \n",
       "83224                         Kabus   1,0  \n",
       "83225                         Kabus   4,0  \n",
       "83226  Bir Zamanlar... Hollywood'da   4,6  "
      ]
     },
     "execution_count": 9,
     "metadata": {},
     "output_type": "execute_result"
    }
   ],
   "source": [
    "df.tail()"
   ]
  },
  {
   "cell_type": "code",
   "execution_count": 10,
   "id": "37c3c9d4",
   "metadata": {},
   "outputs": [
    {
     "data": {
      "text/html": [
       "<div>\n",
       "<style scoped>\n",
       "    .dataframe tbody tr th:only-of-type {\n",
       "        vertical-align: middle;\n",
       "    }\n",
       "\n",
       "    .dataframe tbody tr th {\n",
       "        vertical-align: top;\n",
       "    }\n",
       "\n",
       "    .dataframe thead th {\n",
       "        text-align: right;\n",
       "    }\n",
       "</style>\n",
       "<table border=\"1\" class=\"dataframe\">\n",
       "  <thead>\n",
       "    <tr style=\"text-align: right;\">\n",
       "      <th></th>\n",
       "      <th>comment</th>\n",
       "      <th>film_name</th>\n",
       "      <th>point</th>\n",
       "    </tr>\n",
       "  </thead>\n",
       "  <tbody>\n",
       "    <tr>\n",
       "      <th>50804</th>\n",
       "      <td>\\n                      Filmi beğenmek için hi...</td>\n",
       "      <td>Jupiter Yükseliyor</td>\n",
       "      <td>1,0</td>\n",
       "    </tr>\n",
       "    <tr>\n",
       "      <th>46283</th>\n",
       "      <td>\\n                      Ryan Reynolds ve Julia...</td>\n",
       "      <td>Bahçemdeki Ateş Böcekleri</td>\n",
       "      <td>4,0</td>\n",
       "    </tr>\n",
       "    <tr>\n",
       "      <th>82924</th>\n",
       "      <td>\\n                      Aangi oynayan çocuk iy...</td>\n",
       "      <td>Son Hava Bükücü</td>\n",
       "      <td>5,0</td>\n",
       "    </tr>\n",
       "    <tr>\n",
       "      <th>82076</th>\n",
       "      <td>\\n                      Film gerçekten berbat ...</td>\n",
       "      <td>Bekar Bekir</td>\n",
       "      <td>0,5</td>\n",
       "    </tr>\n",
       "    <tr>\n",
       "      <th>43533</th>\n",
       "      <td>\\n                      bugün (2016-07-02) tar...</td>\n",
       "      <td>The BFG</td>\n",
       "      <td>1,0</td>\n",
       "    </tr>\n",
       "    <tr>\n",
       "      <th>44698</th>\n",
       "      <td>\\n                      Ehhhh işte... yeni bir...</td>\n",
       "      <td>Kuyu</td>\n",
       "      <td>2,5</td>\n",
       "    </tr>\n",
       "    <tr>\n",
       "      <th>39082</th>\n",
       "      <td>\\n                      Çok fantastik, çekildi...</td>\n",
       "      <td>Jurassic Park 3D</td>\n",
       "      <td>4,0</td>\n",
       "    </tr>\n",
       "    <tr>\n",
       "      <th>55238</th>\n",
       "      <td>\\n                      ben filmin acikcasi iy...</td>\n",
       "      <td>Testere: Jigsaw Efsanesi</td>\n",
       "      <td>4,0</td>\n",
       "    </tr>\n",
       "    <tr>\n",
       "      <th>16724</th>\n",
       "      <td>\\n                      İlk film kadar, maales...</td>\n",
       "      <td>Av 2</td>\n",
       "      <td>3,0</td>\n",
       "    </tr>\n",
       "    <tr>\n",
       "      <th>3278</th>\n",
       "      <td>\\n                      izlenmeli pişman olmıc...</td>\n",
       "      <td>Defiance</td>\n",
       "      <td>4,0</td>\n",
       "    </tr>\n",
       "  </tbody>\n",
       "</table>\n",
       "</div>"
      ],
      "text/plain": [
       "                                                 comment  \\\n",
       "50804  \\n                      Filmi beğenmek için hi...   \n",
       "46283  \\n                      Ryan Reynolds ve Julia...   \n",
       "82924  \\n                      Aangi oynayan çocuk iy...   \n",
       "82076  \\n                      Film gerçekten berbat ...   \n",
       "43533  \\n                      bugün (2016-07-02) tar...   \n",
       "44698  \\n                      Ehhhh işte... yeni bir...   \n",
       "39082  \\n                      Çok fantastik, çekildi...   \n",
       "55238  \\n                      ben filmin acikcasi iy...   \n",
       "16724  \\n                      İlk film kadar, maales...   \n",
       "3278   \\n                      izlenmeli pişman olmıc...   \n",
       "\n",
       "                       film_name point  \n",
       "50804         Jupiter Yükseliyor   1,0  \n",
       "46283  Bahçemdeki Ateş Böcekleri   4,0  \n",
       "82924            Son Hava Bükücü   5,0  \n",
       "82076                Bekar Bekir   0,5  \n",
       "43533                    The BFG   1,0  \n",
       "44698                       Kuyu   2,5  \n",
       "39082           Jurassic Park 3D   4,0  \n",
       "55238   Testere: Jigsaw Efsanesi   4,0  \n",
       "16724                       Av 2   3,0  \n",
       "3278                    Defiance   4,0  "
      ]
     },
     "execution_count": 10,
     "metadata": {},
     "output_type": "execute_result"
    }
   ],
   "source": [
    "df.sample(10)"
   ]
  },
  {
   "cell_type": "code",
   "execution_count": 11,
   "id": "e0e37402",
   "metadata": {},
   "outputs": [
    {
     "data": {
      "text/plain": [
       "(83227, 3)"
      ]
     },
     "execution_count": 11,
     "metadata": {},
     "output_type": "execute_result"
    }
   ],
   "source": [
    "df.shape"
   ]
  },
  {
   "cell_type": "code",
   "execution_count": 12,
   "id": "6b1941a6",
   "metadata": {},
   "outputs": [
    {
     "data": {
      "text/html": [
       "<div>\n",
       "<style scoped>\n",
       "    .dataframe tbody tr th:only-of-type {\n",
       "        vertical-align: middle;\n",
       "    }\n",
       "\n",
       "    .dataframe tbody tr th {\n",
       "        vertical-align: top;\n",
       "    }\n",
       "\n",
       "    .dataframe thead th {\n",
       "        text-align: right;\n",
       "    }\n",
       "</style>\n",
       "<table border=\"1\" class=\"dataframe\">\n",
       "  <thead>\n",
       "    <tr style=\"text-align: right;\">\n",
       "      <th></th>\n",
       "      <th>comment</th>\n",
       "      <th>film_name</th>\n",
       "      <th>point</th>\n",
       "    </tr>\n",
       "  </thead>\n",
       "  <tbody>\n",
       "    <tr>\n",
       "      <th>count</th>\n",
       "      <td>83227</td>\n",
       "      <td>83227</td>\n",
       "      <td>83227</td>\n",
       "    </tr>\n",
       "    <tr>\n",
       "      <th>unique</th>\n",
       "      <td>82456</td>\n",
       "      <td>7722</td>\n",
       "      <td>16</td>\n",
       "    </tr>\n",
       "    <tr>\n",
       "      <th>top</th>\n",
       "      <td>\\n        \\n</td>\n",
       "      <td>Kapan</td>\n",
       "      <td>4,0</td>\n",
       "    </tr>\n",
       "    <tr>\n",
       "      <th>freq</th>\n",
       "      <td>300</td>\n",
       "      <td>92</td>\n",
       "      <td>19958</td>\n",
       "    </tr>\n",
       "  </tbody>\n",
       "</table>\n",
       "</div>"
      ],
      "text/plain": [
       "                         comment film_name  point\n",
       "count                      83227     83227  83227\n",
       "unique                     82456      7722     16\n",
       "top     \\n        \\n                 Kapan    4,0\n",
       "freq                         300        92  19958"
      ]
     },
     "execution_count": 12,
     "metadata": {},
     "output_type": "execute_result"
    }
   ],
   "source": [
    "df.describe()"
   ]
  },
  {
   "cell_type": "code",
   "execution_count": 13,
   "id": "135c6445",
   "metadata": {},
   "outputs": [
    {
     "name": "stdout",
     "output_type": "stream",
     "text": [
      "<class 'pandas.core.frame.DataFrame'>\n",
      "RangeIndex: 83227 entries, 0 to 83226\n",
      "Data columns (total 3 columns):\n",
      " #   Column     Non-Null Count  Dtype \n",
      "---  ------     --------------  ----- \n",
      " 0   comment    83227 non-null  object\n",
      " 1   film_name  83227 non-null  object\n",
      " 2   point      83227 non-null  object\n",
      "dtypes: object(3)\n",
      "memory usage: 1.9+ MB\n"
     ]
    }
   ],
   "source": [
    "df.info()"
   ]
  },
  {
   "cell_type": "code",
   "execution_count": 14,
   "id": "934ee36c",
   "metadata": {},
   "outputs": [
    {
     "data": {
      "text/plain": [
       "comment      0\n",
       "film_name    0\n",
       "point        0\n",
       "dtype: int64"
      ]
     },
     "execution_count": 14,
     "metadata": {},
     "output_type": "execute_result"
    }
   ],
   "source": [
    "df.isnull().sum()"
   ]
  },
  {
   "cell_type": "code",
   "execution_count": 15,
   "id": "ed675020",
   "metadata": {},
   "outputs": [
    {
     "data": {
      "text/plain": [
       "Kapan                            92\n",
       "Köstebek                         76\n",
       "Cinnet                           64\n",
       "Deney                            61\n",
       "Şüphe                            54\n",
       "                                 ..\n",
       "Drakula: Ölü ve Mutlu             1\n",
       "Karlar Kraliçesi 2                1\n",
       "Kursk                             1\n",
       "Gassal                            1\n",
       "Max Maceraları: Kralın Doğuşu     1\n",
       "Name: film_name, Length: 7722, dtype: int64"
      ]
     },
     "execution_count": 15,
     "metadata": {},
     "output_type": "execute_result"
    }
   ],
   "source": [
    "df[\"film_name\"].value_counts()"
   ]
  },
  {
   "cell_type": "code",
   "execution_count": 16,
   "id": "ad776f6f",
   "metadata": {},
   "outputs": [
    {
     "data": {
      "text/plain": [
       "4,0    19958\n",
       "5,0    15873\n",
       "2,5    11433\n",
       "3,5     8565\n",
       "4,5     6983\n",
       "3,0     5499\n",
       "0,5     5150\n",
       "1,0     4917\n",
       "2,0     2433\n",
       "1,5     1464\n",
       "4,6      522\n",
       "3,9      211\n",
       "3,8      100\n",
       "3,7       55\n",
       "3,2       38\n",
       "3,1       26\n",
       "Name: point, dtype: int64"
      ]
     },
     "execution_count": 16,
     "metadata": {},
     "output_type": "execute_result"
    }
   ],
   "source": [
    "df[\"point\"].value_counts()"
   ]
  },
  {
   "cell_type": "code",
   "execution_count": 17,
   "id": "b4c3d784",
   "metadata": {},
   "outputs": [
    {
     "data": {
      "text/plain": [
       "<AxesSubplot:xlabel='point', ylabel='count'>"
      ]
     },
     "execution_count": 17,
     "metadata": {},
     "output_type": "execute_result"
    },
    {
     "data": {
      "image/png": "[encoded data removed]",
      "text/plain": [
       "<Figure size 432x288 with 1 Axes>"
      ]
     },
     "metadata": {
      "needs_background": "light"
     },
     "output_type": "display_data"
    }
   ],
   "source": [
    "sns.countplot(x=df['point']) "
   ]
  },
  {
   "cell_type": "code",
   "execution_count": 18,
   "id": "017d35d4",
   "metadata": {},
   "outputs": [
    {
     "data": {
      "text/plain": [
       "<AxesSubplot:>"
      ]
     },
     "execution_count": 18,
     "metadata": {},
     "output_type": "execute_result"
    },
    {
     "data": {
      "image/png": "[encoded data removed]",
      "text/plain": [
       "<Figure size 432x288 with 1 Axes>"
      ]
     },
     "metadata": {
      "needs_background": "light"
     },
     "output_type": "display_data"
    }
   ],
   "source": [
    "df.point.value_counts().plot.bar()"
   ]
  },
  {
   "cell_type": "code",
   "execution_count": 19,
   "id": "e7cc9ec8",
   "metadata": {},
   "outputs": [
    {
     "data": {
      "text/plain": [
       "4.0    27463\n",
       "5.0    15873\n",
       "3.0    14494\n",
       "2.0    13866\n",
       "1.0     6381\n",
       "0.0     5150\n",
       "Name: point, dtype: int64"
      ]
     },
     "execution_count": 19,
     "metadata": {},
     "output_type": "execute_result"
    }
   ],
   "source": [
    "floatize = lambda x : float(x[0:-2])\n",
    "\n",
    "df[\"point\"] = df[\"point\"].apply(floatize)\n",
    "df[\"point\"].value_counts()"
   ]
  },
  {
   "cell_type": "code",
   "execution_count": 20,
   "id": "e9783825",
   "metadata": {},
   "outputs": [
    {
     "data": {
      "text/html": [
       "<div>\n",
       "<style scoped>\n",
       "    .dataframe tbody tr th:only-of-type {\n",
       "        vertical-align: middle;\n",
       "    }\n",
       "\n",
       "    .dataframe tbody tr th {\n",
       "        vertical-align: top;\n",
       "    }\n",
       "\n",
       "    .dataframe thead th {\n",
       "        text-align: right;\n",
       "    }\n",
       "</style>\n",
       "<table border=\"1\" class=\"dataframe\">\n",
       "  <thead>\n",
       "    <tr style=\"text-align: right;\">\n",
       "      <th></th>\n",
       "      <th>point</th>\n",
       "      <th>sentiment</th>\n",
       "      <th>comment</th>\n",
       "    </tr>\n",
       "  </thead>\n",
       "  <tbody>\n",
       "    <tr>\n",
       "      <th>0</th>\n",
       "      <td>5.0</td>\n",
       "      <td>pozitif</td>\n",
       "      <td>\\n                      Jean Reno denince zate...</td>\n",
       "    </tr>\n",
       "    <tr>\n",
       "      <th>1</th>\n",
       "      <td>5.0</td>\n",
       "      <td>pozitif</td>\n",
       "      <td>\\n                      Ekşın falan izlemek is...</td>\n",
       "    </tr>\n",
       "    <tr>\n",
       "      <th>2</th>\n",
       "      <td>5.0</td>\n",
       "      <td>pozitif</td>\n",
       "      <td>\\n                      Bu yapım hakkında öyle...</td>\n",
       "    </tr>\n",
       "    <tr>\n",
       "      <th>3</th>\n",
       "      <td>5.0</td>\n",
       "      <td>pozitif</td>\n",
       "      <td>\\n                      finali yeter... (sting...</td>\n",
       "    </tr>\n",
       "    <tr>\n",
       "      <th>4</th>\n",
       "      <td>5.0</td>\n",
       "      <td>pozitif</td>\n",
       "      <td>\\n                      Jean Reno..\\r\\nbu adam...</td>\n",
       "    </tr>\n",
       "  </tbody>\n",
       "</table>\n",
       "</div>"
      ],
      "text/plain": [
       "   point sentiment                                            comment\n",
       "0    5.0   pozitif  \\n                      Jean Reno denince zate...\n",
       "1    5.0   pozitif  \\n                      Ekşın falan izlemek is...\n",
       "2    5.0   pozitif  \\n                      Bu yapım hakkında öyle...\n",
       "3    5.0   pozitif  \\n                      finali yeter... (sting...\n",
       "4    5.0   pozitif  \\n                      Jean Reno..\\r\\nbu adam..."
      ]
     },
     "execution_count": 20,
     "metadata": {},
     "output_type": "execute_result"
    }
   ],
   "source": [
    "df.loc[df['point']==3, 'sentiment']= 'nötr'\n",
    "df.loc[df['point']<3, 'sentiment']= 'negatif'\n",
    "df.loc[df['point']>3, 'sentiment']= 'pozitif'\n",
    "df=df[[\"point\", \"sentiment\", \"comment\"]]\n",
    "df.head()"
   ]
  },
  {
   "cell_type": "code",
   "execution_count": 21,
   "id": "2c550007",
   "metadata": {},
   "outputs": [
    {
     "data": {
      "image/png": "[encoded data removed]",
      "text/plain": [
       "<Figure size 450x450 with 1 Axes>"
      ]
     },
     "metadata": {},
     "output_type": "display_data"
    }
   ],
   "source": [
    "pie_sentiment=df.sentiment.value_counts(normalize=True)\n",
    "plt.figure(figsize=(3,3), dpi=150),\n",
    "labels='Pozitif', 'Negatif', 'Nötr'\n",
    "colors=['purple', 'red', 'yellow']\n",
    "plt.pie(pie_sentiment,colors=colors,labels=labels,autopct='%1.1f%%')\n",
    "plt.axis('equal');"
   ]
  },
  {
   "cell_type": "code",
   "execution_count": 22,
   "id": "721d0bf1",
   "metadata": {},
   "outputs": [
    {
     "data": {
      "text/plain": [
       "<AxesSubplot:xlabel='sentiment', ylabel='count'>"
      ]
     },
     "execution_count": 22,
     "metadata": {},
     "output_type": "execute_result"
    },
    {
     "data": {
      "image/png": "[encoded data removed]",
      "text/plain": [
       "<Figure size 432x288 with 1 Axes>"
      ]
     },
     "metadata": {
      "needs_background": "light"
     },
     "output_type": "display_data"
    }
   ],
   "source": [
    "import seaborn as sns\n",
    "import matplotlib.pyplot as plt\n",
    "plt.xticks(rotation=90)\n",
    "sns.countplot(x = df['sentiment'])"
   ]
  },
  {
   "cell_type": "code",
   "execution_count": 23,
   "id": "160829ab",
   "metadata": {},
   "outputs": [
    {
     "data": {
      "text/plain": [
       "pozitif    43336\n",
       "negatif    25397\n",
       "nötr       14494\n",
       "Name: sentiment, dtype: int64"
      ]
     },
     "execution_count": 23,
     "metadata": {},
     "output_type": "execute_result"
    }
   ],
   "source": [
    "df.sentiment.value_counts()"
   ]
  },
  {
   "cell_type": "code",
   "execution_count": 24,
   "id": "6d83c3b0",
   "metadata": {},
   "outputs": [
    {
     "data": {
      "text/plain": [
       "pozitif    0.520696\n",
       "negatif    0.305153\n",
       "nötr       0.174150\n",
       "Name: sentiment, dtype: float64"
      ]
     },
     "execution_count": 24,
     "metadata": {},
     "output_type": "execute_result"
    }
   ],
   "source": [
    "df.sentiment.value_counts(normalize=True)"
   ]
  },
  {
   "cell_type": "code",
   "execution_count": 25,
   "id": "c4908909",
   "metadata": {},
   "outputs": [],
   "source": [
    "df[['polarity', 'subjectivity']]= df['comment'].apply(lambda Text: pd.Series(TextBlob(Text).sentiment))"
   ]
  },
  {
   "cell_type": "code",
   "execution_count": 26,
   "id": "d3989f23",
   "metadata": {},
   "outputs": [
    {
     "data": {
      "text/html": [
       "<div>\n",
       "<style scoped>\n",
       "    .dataframe tbody tr th:only-of-type {\n",
       "        vertical-align: middle;\n",
       "    }\n",
       "\n",
       "    .dataframe tbody tr th {\n",
       "        vertical-align: top;\n",
       "    }\n",
       "\n",
       "    .dataframe thead th {\n",
       "        text-align: right;\n",
       "    }\n",
       "</style>\n",
       "<table border=\"1\" class=\"dataframe\">\n",
       "  <thead>\n",
       "    <tr style=\"text-align: right;\">\n",
       "      <th></th>\n",
       "      <th>point</th>\n",
       "      <th>sentiment</th>\n",
       "      <th>comment</th>\n",
       "      <th>polarity</th>\n",
       "      <th>subjectivity</th>\n",
       "    </tr>\n",
       "  </thead>\n",
       "  <tbody>\n",
       "    <tr>\n",
       "      <th>36526</th>\n",
       "      <td>5.0</td>\n",
       "      <td>pozitif</td>\n",
       "      <td>\\n                      izlediğim en güzel jos...</td>\n",
       "      <td>0.0</td>\n",
       "      <td>0.0</td>\n",
       "    </tr>\n",
       "    <tr>\n",
       "      <th>61873</th>\n",
       "      <td>5.0</td>\n",
       "      <td>pozitif</td>\n",
       "      <td>\\n                      bulusanız ve midenize ...</td>\n",
       "      <td>0.0</td>\n",
       "      <td>0.0</td>\n",
       "    </tr>\n",
       "    <tr>\n",
       "      <th>36209</th>\n",
       "      <td>4.0</td>\n",
       "      <td>pozitif</td>\n",
       "      <td>\\n                      hopkins amcamızın bazı...</td>\n",
       "      <td>0.0</td>\n",
       "      <td>0.0</td>\n",
       "    </tr>\n",
       "    <tr>\n",
       "      <th>39442</th>\n",
       "      <td>5.0</td>\n",
       "      <td>pozitif</td>\n",
       "      <td>\\n                      Uzun zamandan beri izl...</td>\n",
       "      <td>0.0</td>\n",
       "      <td>0.0</td>\n",
       "    </tr>\n",
       "    <tr>\n",
       "      <th>31411</th>\n",
       "      <td>1.0</td>\n",
       "      <td>negatif</td>\n",
       "      <td>\\n                      kitabını okuduğum için...</td>\n",
       "      <td>0.0</td>\n",
       "      <td>0.0</td>\n",
       "    </tr>\n",
       "  </tbody>\n",
       "</table>\n",
       "</div>"
      ],
      "text/plain": [
       "       point sentiment                                            comment  \\\n",
       "36526    5.0   pozitif  \\n                      izlediğim en güzel jos...   \n",
       "61873    5.0   pozitif  \\n                      bulusanız ve midenize ...   \n",
       "36209    4.0   pozitif  \\n                      hopkins amcamızın bazı...   \n",
       "39442    5.0   pozitif  \\n                      Uzun zamandan beri izl...   \n",
       "31411    1.0   negatif  \\n                      kitabını okuduğum için...   \n",
       "\n",
       "       polarity  subjectivity  \n",
       "36526       0.0           0.0  \n",
       "61873       0.0           0.0  \n",
       "36209       0.0           0.0  \n",
       "39442       0.0           0.0  \n",
       "31411       0.0           0.0  "
      ]
     },
     "execution_count": 26,
     "metadata": {},
     "output_type": "execute_result"
    }
   ],
   "source": [
    "df.sample(5)"
   ]
  },
  {
   "cell_type": "code",
   "execution_count": 27,
   "id": "4c234b0e",
   "metadata": {},
   "outputs": [],
   "source": [
    "df['comment']=df['comment'].str.lower()                 #bütün sütunu küçük harfe çevirir\n",
    "df['comment']=df['comment'].str.replace('[^\\w\\s]','')   #noktalama işaretlerini kaldırır\n",
    "df['comment']=df['comment'].str.replace('[\\d+]','')     #rakamları kaldırır\n",
    "df['comment']=df['comment'].str.replace('[\\n]','')      #yeni satırları kaldırır\n",
    "df['comment']=df['comment'].str.replace('[\\r]','')      # enter kaldırı"
   ]
  },
  {
   "cell_type": "code",
   "execution_count": 28,
   "id": "4b4ab7e6",
   "metadata": {},
   "outputs": [
    {
     "data": {
      "text/html": [
       "<div>\n",
       "<style scoped>\n",
       "    .dataframe tbody tr th:only-of-type {\n",
       "        vertical-align: middle;\n",
       "    }\n",
       "\n",
       "    .dataframe tbody tr th {\n",
       "        vertical-align: top;\n",
       "    }\n",
       "\n",
       "    .dataframe thead th {\n",
       "        text-align: right;\n",
       "    }\n",
       "</style>\n",
       "<table border=\"1\" class=\"dataframe\">\n",
       "  <thead>\n",
       "    <tr style=\"text-align: right;\">\n",
       "      <th></th>\n",
       "      <th>point</th>\n",
       "      <th>sentiment</th>\n",
       "      <th>comment</th>\n",
       "      <th>polarity</th>\n",
       "      <th>subjectivity</th>\n",
       "    </tr>\n",
       "  </thead>\n",
       "  <tbody>\n",
       "    <tr>\n",
       "      <th>44609</th>\n",
       "      <td>5.0</td>\n",
       "      <td>pozitif</td>\n",
       "      <td>dardenne kardeşlerin agr...</td>\n",
       "      <td>0.000000</td>\n",
       "      <td>0.000000</td>\n",
       "    </tr>\n",
       "    <tr>\n",
       "      <th>47754</th>\n",
       "      <td>0.0</td>\n",
       "      <td>negatif</td>\n",
       "      <td>kızımla aramda gecen dia...</td>\n",
       "      <td>0.000000</td>\n",
       "      <td>0.000000</td>\n",
       "    </tr>\n",
       "    <tr>\n",
       "      <th>18251</th>\n",
       "      <td>5.0</td>\n",
       "      <td>pozitif</td>\n",
       "      <td>super bir film nasiloldu...</td>\n",
       "      <td>0.333333</td>\n",
       "      <td>0.666667</td>\n",
       "    </tr>\n",
       "    <tr>\n",
       "      <th>38067</th>\n",
       "      <td>5.0</td>\n",
       "      <td>pozitif</td>\n",
       "      <td></td>\n",
       "      <td>0.000000</td>\n",
       "      <td>0.000000</td>\n",
       "    </tr>\n",
       "    <tr>\n",
       "      <th>2990</th>\n",
       "      <td>4.0</td>\n",
       "      <td>pozitif</td>\n",
       "      <td>filmi izledikten sonra s...</td>\n",
       "      <td>0.000000</td>\n",
       "      <td>0.000000</td>\n",
       "    </tr>\n",
       "  </tbody>\n",
       "</table>\n",
       "</div>"
      ],
      "text/plain": [
       "       point sentiment                                            comment  \\\n",
       "44609    5.0   pozitif                        dardenne kardeşlerin agr...   \n",
       "47754    0.0   negatif                        kızımla aramda gecen dia...   \n",
       "18251    5.0   pozitif                        super bir film nasiloldu...   \n",
       "38067    5.0   pozitif                                                      \n",
       "2990     4.0   pozitif                        filmi izledikten sonra s...   \n",
       "\n",
       "       polarity  subjectivity  \n",
       "44609  0.000000      0.000000  \n",
       "47754  0.000000      0.000000  \n",
       "18251  0.333333      0.666667  \n",
       "38067  0.000000      0.000000  \n",
       "2990   0.000000      0.000000  "
      ]
     },
     "execution_count": 28,
     "metadata": {},
     "output_type": "execute_result"
    }
   ],
   "source": [
    "df.sample(5)"
   ]
  },
  {
   "cell_type": "code",
   "execution_count": 29,
   "id": "2bf97f69",
   "metadata": {},
   "outputs": [],
   "source": [
    "def create_wordcloud(comment):\n",
    "    mask = np.array(Image.open(\"images.jpg\"))\n",
    "    stopwords = set(STOPWORDS)\n",
    "    wc = WordCloud(background_color=\"white\",\n",
    "                  mask = mask,\n",
    "                  max_words=50000,\n",
    "                  stopwords=stopwords)\n",
    "    wc.generate(str(comment))\n",
    "    wc.to_file(\"wc.png\")\n",
    "    print(\"Word Cloud Saved Successfully\")\n",
    "    path=\"wc.png\"\n",
    "    display(Image.open(path))"
   ]
  },
  {
   "cell_type": "code",
   "execution_count": 30,
   "id": "82125559",
   "metadata": {},
   "outputs": [
    {
     "name": "stdout",
     "output_type": "stream",
     "text": [
      "Word Cloud Saved Successfully\n"
     ]
    },
    {
     "data": {
      "image/png": "[encoded data removed]",
      "text/plain": [
       "<PIL.PngImagePlugin.PngImageFile image mode=RGB size=259x194 at 0x23D7F9FC220>"
      ]
     },
     "metadata": {},
     "output_type": "display_data"
    }
   ],
   "source": [
    "comment1=df[df[\"point\"]==1.0]\n",
    "create_wordcloud(comment1.comment)"
   ]
  },
  {
   "cell_type": "code",
   "execution_count": 31,
   "id": "e0e36ab6",
   "metadata": {},
   "outputs": [
    {
     "name": "stdout",
     "output_type": "stream",
     "text": [
      "Word Cloud Saved Successfully\n"
     ]
    },
    {
     "data": {
      "image/png": "[encoded data removed]",
      "text/plain": [
       "<PIL.PngImagePlugin.PngImageFile image mode=RGB size=259x194 at 0x23D1E861B50>"
      ]
     },
     "metadata": {},
     "output_type": "display_data"
    }
   ],
   "source": [
    "comment5=df[df[\"point\"]==5.0]\n",
    "create_wordcloud(comment5.comment)"
   ]
  },
  {
   "cell_type": "code",
   "execution_count": 32,
   "id": "212d30b3",
   "metadata": {},
   "outputs": [
    {
     "data": {
      "text/plain": [
       "'                      bu filmin izmirde şehrin en uzak noktalarında ve sadece  salonda gösteriliyo olması çok yazık  birbirine yakın birçok salonda neredeyse aynı filmler gösterililirken bu filme birkaç seans bile ayrılmamış umarım bu hatalarını kısa sürede görürler                    '"
      ]
     },
     "execution_count": 32,
     "metadata": {},
     "output_type": "execute_result"
    }
   ],
   "source": [
    "df[\"comment\"][522]    #522. yorum\n"
   ]
  },
  {
   "cell_type": "code",
   "execution_count": 33,
   "id": "fca55bb9",
   "metadata": {},
   "outputs": [
    {
     "data": {
      "text/plain": [
       "4.0"
      ]
     },
     "execution_count": 33,
     "metadata": {},
     "output_type": "execute_result"
    }
   ],
   "source": [
    "df[\"point\"][522]     #522.yoruma verilen puan"
   ]
  },
  {
   "cell_type": "code",
   "execution_count": 34,
   "id": "41739195",
   "metadata": {},
   "outputs": [
    {
     "data": {
      "text/html": [
       "<div>\n",
       "<style scoped>\n",
       "    .dataframe tbody tr th:only-of-type {\n",
       "        vertical-align: middle;\n",
       "    }\n",
       "\n",
       "    .dataframe tbody tr th {\n",
       "        vertical-align: top;\n",
       "    }\n",
       "\n",
       "    .dataframe thead th {\n",
       "        text-align: right;\n",
       "    }\n",
       "</style>\n",
       "<table border=\"1\" class=\"dataframe\">\n",
       "  <thead>\n",
       "    <tr style=\"text-align: right;\">\n",
       "      <th></th>\n",
       "      <th>point</th>\n",
       "      <th>sentiment</th>\n",
       "      <th>comment</th>\n",
       "      <th>polarity</th>\n",
       "      <th>subjectivity</th>\n",
       "    </tr>\n",
       "  </thead>\n",
       "  <tbody>\n",
       "    <tr>\n",
       "      <th>0</th>\n",
       "      <td>5.0</td>\n",
       "      <td>pozitif</td>\n",
       "      <td>jean reno denince zaten ...</td>\n",
       "      <td>0.5</td>\n",
       "      <td>1.0</td>\n",
       "    </tr>\n",
       "    <tr>\n",
       "      <th>1</th>\n",
       "      <td>5.0</td>\n",
       "      <td>pozitif</td>\n",
       "      <td>ekşın falan izlemek isti...</td>\n",
       "      <td>0.0</td>\n",
       "      <td>0.0</td>\n",
       "    </tr>\n",
       "    <tr>\n",
       "      <th>2</th>\n",
       "      <td>5.0</td>\n",
       "      <td>pozitif</td>\n",
       "      <td>bu yapım hakkında öyle ç...</td>\n",
       "      <td>0.0</td>\n",
       "      <td>0.0</td>\n",
       "    </tr>\n",
       "    <tr>\n",
       "      <th>3</th>\n",
       "      <td>5.0</td>\n",
       "      <td>pozitif</td>\n",
       "      <td>finali yeter sting  shap...</td>\n",
       "      <td>0.0</td>\n",
       "      <td>0.0</td>\n",
       "    </tr>\n",
       "    <tr>\n",
       "      <th>4</th>\n",
       "      <td>5.0</td>\n",
       "      <td>pozitif</td>\n",
       "      <td>jean renobu adam kusursu...</td>\n",
       "      <td>0.0</td>\n",
       "      <td>0.0</td>\n",
       "    </tr>\n",
       "    <tr>\n",
       "      <th>...</th>\n",
       "      <td>...</td>\n",
       "      <td>...</td>\n",
       "      <td>...</td>\n",
       "      <td>...</td>\n",
       "      <td>...</td>\n",
       "    </tr>\n",
       "    <tr>\n",
       "      <th>83222</th>\n",
       "      <td>2.0</td>\n",
       "      <td>negatif</td>\n",
       "      <td>böyle bi kadrodan bçyle ...</td>\n",
       "      <td>0.0</td>\n",
       "      <td>0.0</td>\n",
       "    </tr>\n",
       "    <tr>\n",
       "      <th>83223</th>\n",
       "      <td>2.0</td>\n",
       "      <td>negatif</td>\n",
       "      <td>yani bu kaar ii oyuncalr...</td>\n",
       "      <td>0.0</td>\n",
       "      <td>0.0</td>\n",
       "    </tr>\n",
       "    <tr>\n",
       "      <th>83224</th>\n",
       "      <td>1.0</td>\n",
       "      <td>negatif</td>\n",
       "      <td>bugün dvdsini alıp izled...</td>\n",
       "      <td>0.0</td>\n",
       "      <td>0.0</td>\n",
       "    </tr>\n",
       "    <tr>\n",
       "      <th>83225</th>\n",
       "      <td>4.0</td>\n",
       "      <td>pozitif</td>\n",
       "      <td>klasik korku ve gerilim ...</td>\n",
       "      <td>0.0</td>\n",
       "      <td>0.0</td>\n",
       "    </tr>\n",
       "    <tr>\n",
       "      <th>83226</th>\n",
       "      <td>4.0</td>\n",
       "      <td>pozitif</td>\n",
       "      <td>bence gereğinden fazla b...</td>\n",
       "      <td>0.0</td>\n",
       "      <td>0.0</td>\n",
       "    </tr>\n",
       "  </tbody>\n",
       "</table>\n",
       "<p>83227 rows × 5 columns</p>\n",
       "</div>"
      ],
      "text/plain": [
       "       point sentiment                                            comment  \\\n",
       "0        5.0   pozitif                        jean reno denince zaten ...   \n",
       "1        5.0   pozitif                        ekşın falan izlemek isti...   \n",
       "2        5.0   pozitif                        bu yapım hakkında öyle ç...   \n",
       "3        5.0   pozitif                        finali yeter sting  shap...   \n",
       "4        5.0   pozitif                        jean renobu adam kusursu...   \n",
       "...      ...       ...                                                ...   \n",
       "83222    2.0   negatif                        böyle bi kadrodan bçyle ...   \n",
       "83223    2.0   negatif                        yani bu kaar ii oyuncalr...   \n",
       "83224    1.0   negatif                        bugün dvdsini alıp izled...   \n",
       "83225    4.0   pozitif                        klasik korku ve gerilim ...   \n",
       "83226    4.0   pozitif                        bence gereğinden fazla b...   \n",
       "\n",
       "       polarity  subjectivity  \n",
       "0           0.5           1.0  \n",
       "1           0.0           0.0  \n",
       "2           0.0           0.0  \n",
       "3           0.0           0.0  \n",
       "4           0.0           0.0  \n",
       "...         ...           ...  \n",
       "83222       0.0           0.0  \n",
       "83223       0.0           0.0  \n",
       "83224       0.0           0.0  \n",
       "83225       0.0           0.0  \n",
       "83226       0.0           0.0  \n",
       "\n",
       "[83227 rows x 5 columns]"
      ]
     },
     "execution_count": 34,
     "metadata": {},
     "output_type": "execute_result"
    }
   ],
   "source": [
    "df"
   ]
  },
  {
   "cell_type": "code",
   "execution_count": 35,
   "id": "342bcf8b",
   "metadata": {},
   "outputs": [],
   "source": [
    "tokenizer=TreebankWordTokenizer()\n",
    "df['tokenized']=[tokenizer.tokenize(str(i)) for i in df['comment'].values]"
   ]
  },
  {
   "cell_type": "code",
   "execution_count": 36,
   "id": "941239e6",
   "metadata": {},
   "outputs": [
    {
     "data": {
      "text/plain": [
       "0                              jean reno denince zaten ...\n",
       "1                              ekşın falan izlemek isti...\n",
       "2                              bu yapım hakkında öyle ç...\n",
       "3                              finali yeter sting  shap...\n",
       "4                              jean renobu adam kusursu...\n",
       "                               ...                        \n",
       "83222                          böyle bi kadrodan bçyle ...\n",
       "83223                          yani bu kaar ii oyuncalr...\n",
       "83224                          bugün dvdsini alıp izled...\n",
       "83225                          klasik korku ve gerilim ...\n",
       "83226                          bence gereğinden fazla b...\n",
       "Name: comment, Length: 83227, dtype: object"
      ]
     },
     "execution_count": 36,
     "metadata": {},
     "output_type": "execute_result"
    }
   ],
   "source": [
    "df[\"comment\"]"
   ]
  },
  {
   "cell_type": "code",
   "execution_count": 37,
   "id": "9e1a13e1",
   "metadata": {},
   "outputs": [
    {
     "data": {
      "text/plain": [
       "0                              jean reno denince zaten ...\n",
       "1                              ekşın falan izlemek isti...\n",
       "2                              bu yapım hakkında öyle ç...\n",
       "3                              finali yeter sting  shap...\n",
       "4                              jean renobu adam kusursu...\n",
       "                               ...                        \n",
       "83222                          böyle bi kadrodan bçyle ...\n",
       "83223                          yani bu kaar ii oyuncalr...\n",
       "83224                          bugün dvdsini alıp izled...\n",
       "83225                          klasik korku ve gerilim ...\n",
       "83226                          bence gereğinden fazla b...\n",
       "Name: comment, Length: 83227, dtype: object"
      ]
     },
     "execution_count": 37,
     "metadata": {},
     "output_type": "execute_result"
    }
   ],
   "source": [
    "df[\"comment\"]"
   ]
  },
  {
   "cell_type": "code",
   "execution_count": 38,
   "id": "426d1049",
   "metadata": {},
   "outputs": [],
   "source": [
    "x=df['comment']\n",
    "y=df['point']"
   ]
  },
  {
   "cell_type": "code",
   "execution_count": 39,
   "id": "e89c4f85",
   "metadata": {},
   "outputs": [],
   "source": [
    "vect=CountVectorizer()"
   ]
  },
  {
   "cell_type": "code",
   "execution_count": 40,
   "id": "b3c4cf67",
   "metadata": {},
   "outputs": [],
   "source": [
    "x=vect.fit_transform(x)"
   ]
  },
  {
   "cell_type": "code",
   "execution_count": 41,
   "id": "3cf4146d",
   "metadata": {},
   "outputs": [],
   "source": [
    "x_train, x_test, y_train, y_test=train_test_split(x,y,random_state=42, test_size=.20)"
   ]
  },
  {
   "cell_type": "code",
   "execution_count": 42,
   "id": "292a6bac",
   "metadata": {},
   "outputs": [
    {
     "data": {
      "text/plain": [
       "((83227, 318584), (83227,))"
      ]
     },
     "execution_count": 42,
     "metadata": {},
     "output_type": "execute_result"
    }
   ],
   "source": [
    "x.shape, y.shape"
   ]
  },
  {
   "cell_type": "code",
   "execution_count": 43,
   "id": "23aaf784",
   "metadata": {},
   "outputs": [],
   "source": [
    "l=LogisticRegression()"
   ]
  },
  {
   "cell_type": "code",
   "execution_count": 44,
   "id": "83ab4361",
   "metadata": {},
   "outputs": [
    {
     "data": {
      "text/html": [
       "<style>#sk-container-id-1 {color: black;background-color: white;}#sk-container-id-1 pre{padding: 0;}#sk-container-id-1 div.sk-toggleable {background-color: white;}#sk-container-id-1 label.sk-toggleable__label {cursor: pointer;display: block;width: 100%;margin-bottom: 0;padding: 0.3em;box-sizing: border-box;text-align: center;}#sk-container-id-1 label.sk-toggleable__label-arrow:before {content: \"▸\";float: left;margin-right: 0.25em;color: #696969;}#sk-container-id-1 label.sk-toggleable__label-arrow:hover:before {color: black;}#sk-container-id-1 div.sk-estimator:hover label.sk-toggleable__label-arrow:before {color: black;}#sk-container-id-1 div.sk-toggleable__content {max-height: 0;max-width: 0;overflow: hidden;text-align: left;background-color: #f0f8ff;}#sk-container-id-1 div.sk-toggleable__content pre {margin: 0.2em;color: black;border-radius: 0.25em;background-color: #f0f8ff;}#sk-container-id-1 input.sk-toggleable__control:checked~div.sk-toggleable__content {max-height: 200px;max-width: 100%;overflow: auto;}#sk-container-id-1 input.sk-toggleable__control:checked~label.sk-toggleable__label-arrow:before {content: \"▾\";}#sk-container-id-1 div.sk-estimator input.sk-toggleable__control:checked~label.sk-toggleable__label {background-color: #d4ebff;}#sk-container-id-1 div.sk-label input.sk-toggleable__control:checked~label.sk-toggleable__label {background-color: #d4ebff;}#sk-container-id-1 input.sk-hidden--visually {border: 0;clip: rect(1px 1px 1px 1px);clip: rect(1px, 1px, 1px, 1px);height: 1px;margin: -1px;overflow: hidden;padding: 0;position: absolute;width: 1px;}#sk-container-id-1 div.sk-estimator {font-family: monospace;background-color: #f0f8ff;border: 1px dotted black;border-radius: 0.25em;box-sizing: border-box;margin-bottom: 0.5em;}#sk-container-id-1 div.sk-estimator:hover {background-color: #d4ebff;}#sk-container-id-1 div.sk-parallel-item::after {content: \"\";width: 100%;border-bottom: 1px solid gray;flex-grow: 1;}#sk-container-id-1 div.sk-label:hover label.sk-toggleable__label {background-color: #d4ebff;}#sk-container-id-1 div.sk-serial::before {content: \"\";position: absolute;border-left: 1px solid gray;box-sizing: border-box;top: 0;bottom: 0;left: 50%;z-index: 0;}#sk-container-id-1 div.sk-serial {display: flex;flex-direction: column;align-items: center;background-color: white;padding-right: 0.2em;padding-left: 0.2em;position: relative;}#sk-container-id-1 div.sk-item {position: relative;z-index: 1;}#sk-container-id-1 div.sk-parallel {display: flex;align-items: stretch;justify-content: center;background-color: white;position: relative;}#sk-container-id-1 div.sk-item::before, #sk-container-id-1 div.sk-parallel-item::before {content: \"\";position: absolute;border-left: 1px solid gray;box-sizing: border-box;top: 0;bottom: 0;left: 50%;z-index: -1;}#sk-container-id-1 div.sk-parallel-item {display: flex;flex-direction: column;z-index: 1;position: relative;background-color: white;}#sk-container-id-1 div.sk-parallel-item:first-child::after {align-self: flex-end;width: 50%;}#sk-container-id-1 div.sk-parallel-item:last-child::after {align-self: flex-start;width: 50%;}#sk-container-id-1 div.sk-parallel-item:only-child::after {width: 0;}#sk-container-id-1 div.sk-dashed-wrapped {border: 1px dashed gray;margin: 0 0.4em 0.5em 0.4em;box-sizing: border-box;padding-bottom: 0.4em;background-color: white;}#sk-container-id-1 div.sk-label label {font-family: monospace;font-weight: bold;display: inline-block;line-height: 1.2em;}#sk-container-id-1 div.sk-label-container {text-align: center;}#sk-container-id-1 div.sk-container {/* jupyter's `normalize.less` sets `[hidden] { display: none; }` but bootstrap.min.css set `[hidden] { display: none !important; }` so we also need the `!important` here to be able to override the default hidden behavior on the sphinx rendered scikit-learn.org. See: https://github.com/scikit-learn/scikit-learn/issues/21755 */display: inline-block !important;position: relative;}#sk-container-id-1 div.sk-text-repr-fallback {display: none;}</style><div id=\"sk-container-id-1\" class=\"sk-top-container\"><div class=\"sk-text-repr-fallback\"><pre>LogisticRegression()</pre><b>In a Jupyter environment, please rerun this cell to show the HTML representation or trust the notebook. <br />On GitHub, the HTML representation is unable to render, please try loading this page with nbviewer.org.</b></div><div class=\"sk-container\" hidden><div class=\"sk-item\"><div class=\"sk-estimator sk-toggleable\"><input class=\"sk-toggleable__control sk-hidden--visually\" id=\"sk-estimator-id-1\" type=\"checkbox\" checked><label for=\"sk-estimator-id-1\" class=\"sk-toggleable__label sk-toggleable__label-arrow\">LogisticRegression</label><div class=\"sk-toggleable__content\"><pre>LogisticRegression()</pre></div></div></div></div></div>"
      ],
      "text/plain": [
       "LogisticRegression()"
      ]
     },
     "execution_count": 44,
     "metadata": {},
     "output_type": "execute_result"
    }
   ],
   "source": [
    "l.fit(x_train,y_train) "
   ]
  },
  {
   "cell_type": "code",
   "execution_count": 45,
   "id": "49bc22d1",
   "metadata": {},
   "outputs": [],
   "source": [
    "pred=l.predict(x_test)"
   ]
  },
  {
   "cell_type": "code",
   "execution_count": 46,
   "id": "c19292a5",
   "metadata": {},
   "outputs": [
    {
     "data": {
      "text/plain": [
       "0.4014177580199447"
      ]
     },
     "execution_count": 46,
     "metadata": {},
     "output_type": "execute_result"
    }
   ],
   "source": [
    "accuracy_score(pred,y_test)  "
   ]
  },
  {
   "cell_type": "code",
   "execution_count": 47,
   "id": "d97a6679",
   "metadata": {},
   "outputs": [],
   "source": [
    "m=MultinomialNB()"
   ]
  },
  {
   "cell_type": "code",
   "execution_count": 48,
   "id": "4c1073a1",
   "metadata": {},
   "outputs": [],
   "source": [
    "pred2=m.fit(x_train,y_train).predict(x_test) "
   ]
  },
  {
   "cell_type": "code",
   "execution_count": 49,
   "id": "50ef9835",
   "metadata": {},
   "outputs": [
    {
     "data": {
      "text/plain": [
       "0.3933077015499219"
      ]
     },
     "execution_count": 49,
     "metadata": {},
     "output_type": "execute_result"
    }
   ],
   "source": [
    "accuracy_score(pred2,y_test)"
   ]
  },
  {
   "cell_type": "code",
   "execution_count": null,
   "id": "301f4e88",
   "metadata": {},
   "outputs": [],
   "source": []
  },
  {
   "cell_type": "code",
   "execution_count": null,
   "id": "bf14d250",
   "metadata": {},
   "outputs": [],
   "source": []
  }
 ],
 "metadata": {
  "kernelspec": {
   "display_name": "Python 3 (ipykernel)",
   "language": "python",
   "name": "python3"
  },
  "language_info": {
   "codemirror_mode": {
    "name": "ipython",
    "version": 3
   },
   "file_extension": ".py",
   "mimetype": "text/x-python",
   "name": "python",
   "nbconvert_exporter": "python",
   "pygments_lexer": "ipython3",
   "version": "3.9.12"
  }
 },
 "nbformat": 4,
 "nbformat_minor": 5
}
