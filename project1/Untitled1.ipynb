{
 "cells": [
  {
   "cell_type": "code",
   "execution_count": 1,
   "id": "31aee4f2",
   "metadata": {},
   "outputs": [],
   "source": [
    "import pandas as pd\n",
    "import matplotlib.pyplot as plt\n",
    "%matplotlib inline\n",
    "import seaborn as sns\n",
    "from textblob import TextBlob\n",
    "import numpy as np\n",
    "import scipy as sp\n",
    "import sys\n",
    "#import pycountry\n",
    "\n",
    "import warnings\n",
    "warnings.filterwarnings(\"ignore\")\n",
    "from wordcloud import WordCloud, STOPWORDS\n",
    "import os\n",
    "from PIL import Image\n",
    "\n",
    "\n",
    "import nltk\n",
    "from nltk.stem import SnowballStemmer\n",
    "from nltk.sentiment.vader import SentimentIntensityAnalyzer\n",
    "from nltk.tokenize import TreebankWordTokenizer\n",
    "from nltk.stem import PorterStemmer\n",
    "from nltk.stem import LancasterStemmer\n",
    "from nltk.stem import RegexpStemmer\n",
    "from nltk.tokenize import word_tokenize\n",
    "\n",
    "\n",
    "from sklearn.feature_extraction.text import CountVectorizer, TfidfVectorizer\n",
    "from sklearn.linear_model import LogisticRegression\n",
    "from sklearn.model_selection import train_test_split\n",
    "from sklearn.metrics import accuracy_score\n",
    "from sklearn.naive_bayes import MultinomialNB\n"
   ]
  },
  {
   "cell_type": "code",
   "execution_count": 2,
   "id": "6eae810c",
   "metadata": {},
   "outputs": [],
   "source": [
    "df=pd.read_csv(\"turkish_movie_sentiment_dataset.csv\")"
   ]
  },
  {
   "cell_type": "code",
   "execution_count": 3,
   "id": "eeef0946",
   "metadata": {},
   "outputs": [
    {
     "data": {
      "text/html": [
       "<div>\n",
       "<style scoped>\n",
       "    .dataframe tbody tr th:only-of-type {\n",
       "        vertical-align: middle;\n",
       "    }\n",
       "\n",
       "    .dataframe tbody tr th {\n",
       "        vertical-align: top;\n",
       "    }\n",
       "\n",
       "    .dataframe thead th {\n",
       "        text-align: right;\n",
       "    }\n",
       "</style>\n",
       "<table border=\"1\" class=\"dataframe\">\n",
       "  <thead>\n",
       "    <tr style=\"text-align: right;\">\n",
       "      <th></th>\n",
       "      <th>comment</th>\n",
       "      <th>film_name</th>\n",
       "      <th>point</th>\n",
       "    </tr>\n",
       "  </thead>\n",
       "  <tbody>\n",
       "    <tr>\n",
       "      <th>0</th>\n",
       "      <td>\\n                      Jean Reno denince zate...</td>\n",
       "      <td>Sevginin Gücü</td>\n",
       "      <td>5,0</td>\n",
       "    </tr>\n",
       "    <tr>\n",
       "      <th>1</th>\n",
       "      <td>\\n                      Ekşın falan izlemek is...</td>\n",
       "      <td>Sevginin Gücü</td>\n",
       "      <td>5,0</td>\n",
       "    </tr>\n",
       "    <tr>\n",
       "      <th>2</th>\n",
       "      <td>\\n                      Bu yapım hakkında öyle...</td>\n",
       "      <td>Sevginin Gücü</td>\n",
       "      <td>5,0</td>\n",
       "    </tr>\n",
       "    <tr>\n",
       "      <th>3</th>\n",
       "      <td>\\n                      finali yeter... (sting...</td>\n",
       "      <td>Sevginin Gücü</td>\n",
       "      <td>5,0</td>\n",
       "    </tr>\n",
       "    <tr>\n",
       "      <th>4</th>\n",
       "      <td>\\n                      Jean Reno..\\r\\nbu adam...</td>\n",
       "      <td>Sevginin Gücü</td>\n",
       "      <td>5,0</td>\n",
       "    </tr>\n",
       "  </tbody>\n",
       "</table>\n",
       "</div>"
      ],
      "text/plain": [
       "                                             comment      film_name point\n",
       "0  \\n                      Jean Reno denince zate...  Sevginin Gücü   5,0\n",
       "1  \\n                      Ekşın falan izlemek is...  Sevginin Gücü   5,0\n",
       "2  \\n                      Bu yapım hakkında öyle...  Sevginin Gücü   5,0\n",
       "3  \\n                      finali yeter... (sting...  Sevginin Gücü   5,0\n",
       "4  \\n                      Jean Reno..\\r\\nbu adam...  Sevginin Gücü   5,0"
      ]
     },
     "execution_count": 3,
     "metadata": {},
     "output_type": "execute_result"
    }
   ],
   "source": [
    "df.head()"
   ]
  },
  {
   "cell_type": "code",
   "execution_count": 4,
   "id": "49d0b596",
   "metadata": {},
   "outputs": [
    {
     "data": {
      "text/html": [
       "<div>\n",
       "<style scoped>\n",
       "    .dataframe tbody tr th:only-of-type {\n",
       "        vertical-align: middle;\n",
       "    }\n",
       "\n",
       "    .dataframe tbody tr th {\n",
       "        vertical-align: top;\n",
       "    }\n",
       "\n",
       "    .dataframe thead th {\n",
       "        text-align: right;\n",
       "    }\n",
       "</style>\n",
       "<table border=\"1\" class=\"dataframe\">\n",
       "  <thead>\n",
       "    <tr style=\"text-align: right;\">\n",
       "      <th></th>\n",
       "      <th>comment</th>\n",
       "      <th>film_name</th>\n",
       "      <th>point</th>\n",
       "    </tr>\n",
       "  </thead>\n",
       "  <tbody>\n",
       "    <tr>\n",
       "      <th>83222</th>\n",
       "      <td>\\n                      Böyle bi kadrodan, bçy...</td>\n",
       "      <td>Kabus</td>\n",
       "      <td>2,5</td>\n",
       "    </tr>\n",
       "    <tr>\n",
       "      <th>83223</th>\n",
       "      <td>\\n                      yani bu kaar ii oyunca...</td>\n",
       "      <td>Kabus</td>\n",
       "      <td>2,5</td>\n",
       "    </tr>\n",
       "    <tr>\n",
       "      <th>83224</th>\n",
       "      <td>\\n                      bugün dvd'sini alıp iz...</td>\n",
       "      <td>Kabus</td>\n",
       "      <td>1,0</td>\n",
       "    </tr>\n",
       "    <tr>\n",
       "      <th>83225</th>\n",
       "      <td>\\n                      Klasik korku ve gerili...</td>\n",
       "      <td>Kabus</td>\n",
       "      <td>4,0</td>\n",
       "    </tr>\n",
       "    <tr>\n",
       "      <th>83226</th>\n",
       "      <td>\\n                      Bence gereğinden fazla...</td>\n",
       "      <td>Bir Zamanlar... Hollywood'da</td>\n",
       "      <td>4,6</td>\n",
       "    </tr>\n",
       "  </tbody>\n",
       "</table>\n",
       "</div>"
      ],
      "text/plain": [
       "                                                 comment  \\\n",
       "83222  \\n                      Böyle bi kadrodan, bçy...   \n",
       "83223  \\n                      yani bu kaar ii oyunca...   \n",
       "83224  \\n                      bugün dvd'sini alıp iz...   \n",
       "83225  \\n                      Klasik korku ve gerili...   \n",
       "83226  \\n                      Bence gereğinden fazla...   \n",
       "\n",
       "                          film_name point  \n",
       "83222                         Kabus   2,5  \n",
       "83223                         Kabus   2,5  \n",
       "83224                         Kabus   1,0  \n",
       "83225                         Kabus   4,0  \n",
       "83226  Bir Zamanlar... Hollywood'da   4,6  "
      ]
     },
     "execution_count": 4,
     "metadata": {},
     "output_type": "execute_result"
    }
   ],
   "source": [
    "df.tail()"
   ]
  },
  {
   "cell_type": "code",
   "execution_count": 40,
   "id": "902a8d3b",
   "metadata": {},
   "outputs": [
    {
     "data": {
      "text/html": [
       "<div>\n",
       "<style scoped>\n",
       "    .dataframe tbody tr th:only-of-type {\n",
       "        vertical-align: middle;\n",
       "    }\n",
       "\n",
       "    .dataframe tbody tr th {\n",
       "        vertical-align: top;\n",
       "    }\n",
       "\n",
       "    .dataframe thead th {\n",
       "        text-align: right;\n",
       "    }\n",
       "</style>\n",
       "<table border=\"1\" class=\"dataframe\">\n",
       "  <thead>\n",
       "    <tr style=\"text-align: right;\">\n",
       "      <th></th>\n",
       "      <th>point</th>\n",
       "      <th>sentiment</th>\n",
       "      <th>comment</th>\n",
       "      <th>polarity</th>\n",
       "      <th>subjectivity</th>\n",
       "      <th>tokenized</th>\n",
       "    </tr>\n",
       "  </thead>\n",
       "  <tbody>\n",
       "    <tr>\n",
       "      <th>24478</th>\n",
       "      <td>4.0</td>\n",
       "      <td>pozitif</td>\n",
       "      <td>[ ,  ,  ,  ,  ,  ,  ,  ,  ,  ,  ,  ,  ,  ,  , ...</td>\n",
       "      <td>0.0</td>\n",
       "      <td>0.0</td>\n",
       "      <td>[birinci, film, kadar, heyecanlı, ve, güzel, o...</td>\n",
       "    </tr>\n",
       "    <tr>\n",
       "      <th>20053</th>\n",
       "      <td>3.0</td>\n",
       "      <td>nötr</td>\n",
       "      <td>[ ,  ,  ,  ,  ,  ,  ,  ,  ,  ,  ,  ,  ,  ,  , ...</td>\n",
       "      <td>0.0</td>\n",
       "      <td>0.0</td>\n",
       "      <td>[ağır, temposu, eşliğinde, dakikalık, bir, sür...</td>\n",
       "    </tr>\n",
       "    <tr>\n",
       "      <th>22876</th>\n",
       "      <td>4.0</td>\n",
       "      <td>pozitif</td>\n",
       "      <td>[ ,  ,  ,  ,  ,  ,  ,  ,  ,  ,  ,  ,  ,  ,  , ...</td>\n",
       "      <td>0.0</td>\n",
       "      <td>0.0</td>\n",
       "      <td>[herkesin, izlemesi, ders, alması, gereken, bi...</td>\n",
       "    </tr>\n",
       "    <tr>\n",
       "      <th>22731</th>\n",
       "      <td>2.0</td>\n",
       "      <td>negatif</td>\n",
       "      <td>[ ,  ,  ,  ,  ,  ,  ,  ,  ,  ,  ,  ,  ,  ,  , ...</td>\n",
       "      <td>0.0</td>\n",
       "      <td>0.0</td>\n",
       "      <td>[seslandirmeler, süper, olmuş, özellikle, seza...</td>\n",
       "    </tr>\n",
       "    <tr>\n",
       "      <th>15199</th>\n",
       "      <td>5.0</td>\n",
       "      <td>pozitif</td>\n",
       "      <td>[ ,  ,  ,  ,  ,  ,  ,  ,  ,  ,  ,  ,  ,  ,  , ...</td>\n",
       "      <td>0.0</td>\n",
       "      <td>0.0</td>\n",
       "      <td>[dün, akşam, filmin, galasındaydımbeyazperdeni...</td>\n",
       "    </tr>\n",
       "    <tr>\n",
       "      <th>64694</th>\n",
       "      <td>3.0</td>\n",
       "      <td>nötr</td>\n",
       "      <td>[ ,  ,  ,  ,  ,  ,  ,  ,  ,  ,  ,  ,  ,  ,  , ...</td>\n",
       "      <td>0.0</td>\n",
       "      <td>0.0</td>\n",
       "      <td>[filmdeki, oyuncu, kadrosuna, bakılınca, komed...</td>\n",
       "    </tr>\n",
       "    <tr>\n",
       "      <th>64465</th>\n",
       "      <td>4.0</td>\n",
       "      <td>pozitif</td>\n",
       "      <td>[ ,  ,  ,  ,  ,  ,  ,  ,  ,  ,  ,  ,  ,  ,  , ...</td>\n",
       "      <td>0.0</td>\n",
       "      <td>0.0</td>\n",
       "      <td>[mutlaka, izleyeceğim]</td>\n",
       "    </tr>\n",
       "    <tr>\n",
       "      <th>18205</th>\n",
       "      <td>5.0</td>\n",
       "      <td>pozitif</td>\n",
       "      <td>[ ,  ,  ,  ,  ,  ,  ,  ,  ,  ,  ,  ,  ,  ,  , ...</td>\n",
       "      <td>0.0</td>\n",
       "      <td>0.0</td>\n",
       "      <td>[luis, bunuelbir, endülüs, köpeğialtın, çağmah...</td>\n",
       "    </tr>\n",
       "    <tr>\n",
       "      <th>43253</th>\n",
       "      <td>3.0</td>\n",
       "      <td>nötr</td>\n",
       "      <td>[ ,  ,  ,  ,  ,  ,  ,  ,  ,  ,  ,  ,  ,  ,  , ...</td>\n",
       "      <td>0.0</td>\n",
       "      <td>0.1</td>\n",
       "      <td>[sıkılmadan, izleyebileceğiniz, bir, film, ben...</td>\n",
       "    </tr>\n",
       "    <tr>\n",
       "      <th>1122</th>\n",
       "      <td>5.0</td>\n",
       "      <td>pozitif</td>\n",
       "      <td>[ ,  ,  ,  ,  ,  ,  ,  ,  ,  ,  ,  ,  ,  ,  , ...</td>\n",
       "      <td>0.0</td>\n",
       "      <td>0.0</td>\n",
       "      <td>[hayatımda, iizlediğim, filmler, arasına, bodo...</td>\n",
       "    </tr>\n",
       "  </tbody>\n",
       "</table>\n",
       "</div>"
      ],
      "text/plain": [
       "       point sentiment                                            comment  \\\n",
       "24478    4.0   pozitif  [ ,  ,  ,  ,  ,  ,  ,  ,  ,  ,  ,  ,  ,  ,  , ...   \n",
       "20053    3.0      nötr  [ ,  ,  ,  ,  ,  ,  ,  ,  ,  ,  ,  ,  ,  ,  , ...   \n",
       "22876    4.0   pozitif  [ ,  ,  ,  ,  ,  ,  ,  ,  ,  ,  ,  ,  ,  ,  , ...   \n",
       "22731    2.0   negatif  [ ,  ,  ,  ,  ,  ,  ,  ,  ,  ,  ,  ,  ,  ,  , ...   \n",
       "15199    5.0   pozitif  [ ,  ,  ,  ,  ,  ,  ,  ,  ,  ,  ,  ,  ,  ,  , ...   \n",
       "64694    3.0      nötr  [ ,  ,  ,  ,  ,  ,  ,  ,  ,  ,  ,  ,  ,  ,  , ...   \n",
       "64465    4.0   pozitif  [ ,  ,  ,  ,  ,  ,  ,  ,  ,  ,  ,  ,  ,  ,  , ...   \n",
       "18205    5.0   pozitif  [ ,  ,  ,  ,  ,  ,  ,  ,  ,  ,  ,  ,  ,  ,  , ...   \n",
       "43253    3.0      nötr  [ ,  ,  ,  ,  ,  ,  ,  ,  ,  ,  ,  ,  ,  ,  , ...   \n",
       "1122     5.0   pozitif  [ ,  ,  ,  ,  ,  ,  ,  ,  ,  ,  ,  ,  ,  ,  , ...   \n",
       "\n",
       "       polarity  subjectivity  \\\n",
       "24478       0.0           0.0   \n",
       "20053       0.0           0.0   \n",
       "22876       0.0           0.0   \n",
       "22731       0.0           0.0   \n",
       "15199       0.0           0.0   \n",
       "64694       0.0           0.0   \n",
       "64465       0.0           0.0   \n",
       "18205       0.0           0.0   \n",
       "43253       0.0           0.1   \n",
       "1122        0.0           0.0   \n",
       "\n",
       "                                               tokenized  \n",
       "24478  [birinci, film, kadar, heyecanlı, ve, güzel, o...  \n",
       "20053  [ağır, temposu, eşliğinde, dakikalık, bir, sür...  \n",
       "22876  [herkesin, izlemesi, ders, alması, gereken, bi...  \n",
       "22731  [seslandirmeler, süper, olmuş, özellikle, seza...  \n",
       "15199  [dün, akşam, filmin, galasındaydımbeyazperdeni...  \n",
       "64694  [filmdeki, oyuncu, kadrosuna, bakılınca, komed...  \n",
       "64465                             [mutlaka, izleyeceğim]  \n",
       "18205  [luis, bunuelbir, endülüs, köpeğialtın, çağmah...  \n",
       "43253  [sıkılmadan, izleyebileceğiniz, bir, film, ben...  \n",
       "1122   [hayatımda, iizlediğim, filmler, arasına, bodo...  "
      ]
     },
     "execution_count": 40,
     "metadata": {},
     "output_type": "execute_result"
    }
   ],
   "source": [
    "df.sample(10)"
   ]
  },
  {
   "cell_type": "code",
   "execution_count": 6,
   "id": "ffdbaab1",
   "metadata": {},
   "outputs": [
    {
     "data": {
      "text/plain": [
       "(83227, 3)"
      ]
     },
     "execution_count": 6,
     "metadata": {},
     "output_type": "execute_result"
    }
   ],
   "source": [
    "df.shape"
   ]
  },
  {
   "cell_type": "code",
   "execution_count": 7,
   "id": "06faf7a8",
   "metadata": {},
   "outputs": [
    {
     "data": {
      "text/html": [
       "<div>\n",
       "<style scoped>\n",
       "    .dataframe tbody tr th:only-of-type {\n",
       "        vertical-align: middle;\n",
       "    }\n",
       "\n",
       "    .dataframe tbody tr th {\n",
       "        vertical-align: top;\n",
       "    }\n",
       "\n",
       "    .dataframe thead th {\n",
       "        text-align: right;\n",
       "    }\n",
       "</style>\n",
       "<table border=\"1\" class=\"dataframe\">\n",
       "  <thead>\n",
       "    <tr style=\"text-align: right;\">\n",
       "      <th></th>\n",
       "      <th>comment</th>\n",
       "      <th>film_name</th>\n",
       "      <th>point</th>\n",
       "    </tr>\n",
       "  </thead>\n",
       "  <tbody>\n",
       "    <tr>\n",
       "      <th>count</th>\n",
       "      <td>83227</td>\n",
       "      <td>83227</td>\n",
       "      <td>83227</td>\n",
       "    </tr>\n",
       "    <tr>\n",
       "      <th>unique</th>\n",
       "      <td>82456</td>\n",
       "      <td>7722</td>\n",
       "      <td>16</td>\n",
       "    </tr>\n",
       "    <tr>\n",
       "      <th>top</th>\n",
       "      <td>\\n        \\n</td>\n",
       "      <td>Kapan</td>\n",
       "      <td>4,0</td>\n",
       "    </tr>\n",
       "    <tr>\n",
       "      <th>freq</th>\n",
       "      <td>300</td>\n",
       "      <td>92</td>\n",
       "      <td>19958</td>\n",
       "    </tr>\n",
       "  </tbody>\n",
       "</table>\n",
       "</div>"
      ],
      "text/plain": [
       "                         comment film_name  point\n",
       "count                      83227     83227  83227\n",
       "unique                     82456      7722     16\n",
       "top     \\n        \\n                 Kapan    4,0\n",
       "freq                         300        92  19958"
      ]
     },
     "execution_count": 7,
     "metadata": {},
     "output_type": "execute_result"
    }
   ],
   "source": [
    "df.describe()"
   ]
  },
  {
   "cell_type": "code",
   "execution_count": 8,
   "id": "1307423b",
   "metadata": {},
   "outputs": [
    {
     "name": "stdout",
     "output_type": "stream",
     "text": [
      "<class 'pandas.core.frame.DataFrame'>\n",
      "RangeIndex: 83227 entries, 0 to 83226\n",
      "Data columns (total 3 columns):\n",
      " #   Column     Non-Null Count  Dtype \n",
      "---  ------     --------------  ----- \n",
      " 0   comment    83227 non-null  object\n",
      " 1   film_name  83227 non-null  object\n",
      " 2   point      83227 non-null  object\n",
      "dtypes: object(3)\n",
      "memory usage: 1.9+ MB\n"
     ]
    }
   ],
   "source": [
    "df.info()"
   ]
  },
  {
   "cell_type": "code",
   "execution_count": 9,
   "id": "c8607e5f",
   "metadata": {},
   "outputs": [
    {
     "data": {
      "text/plain": [
       "comment      0\n",
       "film_name    0\n",
       "point        0\n",
       "dtype: int64"
      ]
     },
     "execution_count": 9,
     "metadata": {},
     "output_type": "execute_result"
    }
   ],
   "source": [
    "df.isnull().sum()"
   ]
  },
  {
   "cell_type": "code",
   "execution_count": 10,
   "id": "957b14c2",
   "metadata": {},
   "outputs": [
    {
     "data": {
      "text/plain": [
       "Kapan                            92\n",
       "Köstebek                         76\n",
       "Cinnet                           64\n",
       "Deney                            61\n",
       "Şüphe                            54\n",
       "                                 ..\n",
       "Drakula: Ölü ve Mutlu             1\n",
       "Karlar Kraliçesi 2                1\n",
       "Kursk                             1\n",
       "Gassal                            1\n",
       "Max Maceraları: Kralın Doğuşu     1\n",
       "Name: film_name, Length: 7722, dtype: int64"
      ]
     },
     "execution_count": 10,
     "metadata": {},
     "output_type": "execute_result"
    }
   ],
   "source": [
    "df[\"film_name\"].value_counts()"
   ]
  },
  {
   "cell_type": "code",
   "execution_count": 11,
   "id": "99df4c33",
   "metadata": {},
   "outputs": [
    {
     "data": {
      "text/plain": [
       "4,0    19958\n",
       "5,0    15873\n",
       "2,5    11433\n",
       "3,5     8565\n",
       "4,5     6983\n",
       "3,0     5499\n",
       "0,5     5150\n",
       "1,0     4917\n",
       "2,0     2433\n",
       "1,5     1464\n",
       "4,6      522\n",
       "3,9      211\n",
       "3,8      100\n",
       "3,7       55\n",
       "3,2       38\n",
       "3,1       26\n",
       "Name: point, dtype: int64"
      ]
     },
     "execution_count": 11,
     "metadata": {},
     "output_type": "execute_result"
    }
   ],
   "source": [
    "df[\"point\"].value_counts()"
   ]
  },
  {
   "cell_type": "code",
   "execution_count": 12,
   "id": "468bce8f",
   "metadata": {},
   "outputs": [
    {
     "data": {
      "text/plain": [
       "<AxesSubplot:>"
      ]
     },
     "execution_count": 12,
     "metadata": {},
     "output_type": "execute_result"
    },
    {
     "data": {
      "image/png": "[encoded data removed]",
      "text/plain": [
       "<Figure size 432x288 with 1 Axes>"
      ]
     },
     "metadata": {
      "needs_background": "light"
     },
     "output_type": "display_data"
    }
   ],
   "source": [
    "df.point.value_counts().plot.bar()"
   ]
  },
  {
   "cell_type": "code",
   "execution_count": 13,
   "id": "93465055",
   "metadata": {},
   "outputs": [
    {
     "data": {
      "text/plain": [
       "4.0    27463\n",
       "5.0    15873\n",
       "3.0    14494\n",
       "2.0    13866\n",
       "1.0     6381\n",
       "0.0     5150\n",
       "Name: point, dtype: int64"
      ]
     },
     "execution_count": 13,
     "metadata": {},
     "output_type": "execute_result"
    }
   ],
   "source": [
    "floatize = lambda x : float(x[0:-2])\n",
    "\n",
    "df[\"point\"] = df[\"point\"].apply(floatize)\n",
    "df[\"point\"].value_counts()"
   ]
  },
  {
   "cell_type": "code",
   "execution_count": 14,
   "id": "2b0b1f45",
   "metadata": {},
   "outputs": [
    {
     "data": {
      "text/html": [
       "<div>\n",
       "<style scoped>\n",
       "    .dataframe tbody tr th:only-of-type {\n",
       "        vertical-align: middle;\n",
       "    }\n",
       "\n",
       "    .dataframe tbody tr th {\n",
       "        vertical-align: top;\n",
       "    }\n",
       "\n",
       "    .dataframe thead th {\n",
       "        text-align: right;\n",
       "    }\n",
       "</style>\n",
       "<table border=\"1\" class=\"dataframe\">\n",
       "  <thead>\n",
       "    <tr style=\"text-align: right;\">\n",
       "      <th></th>\n",
       "      <th>point</th>\n",
       "      <th>sentiment</th>\n",
       "      <th>comment</th>\n",
       "    </tr>\n",
       "  </thead>\n",
       "  <tbody>\n",
       "    <tr>\n",
       "      <th>0</th>\n",
       "      <td>5.0</td>\n",
       "      <td>pozitif</td>\n",
       "      <td>\\n                      Jean Reno denince zate...</td>\n",
       "    </tr>\n",
       "    <tr>\n",
       "      <th>1</th>\n",
       "      <td>5.0</td>\n",
       "      <td>pozitif</td>\n",
       "      <td>\\n                      Ekşın falan izlemek is...</td>\n",
       "    </tr>\n",
       "    <tr>\n",
       "      <th>2</th>\n",
       "      <td>5.0</td>\n",
       "      <td>pozitif</td>\n",
       "      <td>\\n                      Bu yapım hakkında öyle...</td>\n",
       "    </tr>\n",
       "    <tr>\n",
       "      <th>3</th>\n",
       "      <td>5.0</td>\n",
       "      <td>pozitif</td>\n",
       "      <td>\\n                      finali yeter... (sting...</td>\n",
       "    </tr>\n",
       "    <tr>\n",
       "      <th>4</th>\n",
       "      <td>5.0</td>\n",
       "      <td>pozitif</td>\n",
       "      <td>\\n                      Jean Reno..\\r\\nbu adam...</td>\n",
       "    </tr>\n",
       "  </tbody>\n",
       "</table>\n",
       "</div>"
      ],
      "text/plain": [
       "   point sentiment                                            comment\n",
       "0    5.0   pozitif  \\n                      Jean Reno denince zate...\n",
       "1    5.0   pozitif  \\n                      Ekşın falan izlemek is...\n",
       "2    5.0   pozitif  \\n                      Bu yapım hakkında öyle...\n",
       "3    5.0   pozitif  \\n                      finali yeter... (sting...\n",
       "4    5.0   pozitif  \\n                      Jean Reno..\\r\\nbu adam..."
      ]
     },
     "execution_count": 14,
     "metadata": {},
     "output_type": "execute_result"
    }
   ],
   "source": [
    "df.loc[df['point']==3, 'sentiment']= 'nötr'\n",
    "df.loc[df['point']<3, 'sentiment']= 'negatif'\n",
    "df.loc[df['point']>3, 'sentiment']= 'pozitif'\n",
    "df=df[[\"point\", \"sentiment\", \"comment\"]]\n",
    "df.head()"
   ]
  },
  {
   "cell_type": "code",
   "execution_count": 15,
   "id": "7832ad00",
   "metadata": {},
   "outputs": [
    {
     "data": {
      "image/png": "[encoded data removed]",
      "text/plain": [
       "<Figure size 750x750 with 1 Axes>"
      ]
     },
     "metadata": {},
     "output_type": "display_data"
    }
   ],
   "source": [
    "pie_sentiment=df.sentiment.value_counts(normalize=True)\n",
    "plt.figure(figsize=(5,5), dpi=150),\n",
    "labels='Pozitif', 'Negatif', 'Nötr'\n",
    "colors=['purple', 'red', 'yellow']\n",
    "plt.pie(pie_sentiment,colors=colors,labels=labels,autopct='%1.1f%%')\n",
    "plt.axis('equal');"
   ]
  },
  {
   "cell_type": "code",
   "execution_count": 16,
   "id": "b4608959",
   "metadata": {},
   "outputs": [
    {
     "data": {
      "text/plain": [
       "<AxesSubplot:xlabel='sentiment', ylabel='count'>"
      ]
     },
     "execution_count": 16,
     "metadata": {},
     "output_type": "execute_result"
    },
    {
     "data": {
      "image/png": "[encoded data removed]",
      "text/plain": [
       "<Figure size 432x288 with 1 Axes>"
      ]
     },
     "metadata": {
      "needs_background": "light"
     },
     "output_type": "display_data"
    }
   ],
   "source": [
    "import seaborn as sns\n",
    "import matplotlib.pyplot as plt\n",
    "plt.xticks(rotation=90)\n",
    "sns.countplot(x = df['sentiment'])"
   ]
  },
  {
   "cell_type": "code",
   "execution_count": 17,
   "id": "511ada9e",
   "metadata": {},
   "outputs": [
    {
     "data": {
      "text/plain": [
       "pozitif    43336\n",
       "negatif    25397\n",
       "nötr       14494\n",
       "Name: sentiment, dtype: int64"
      ]
     },
     "execution_count": 17,
     "metadata": {},
     "output_type": "execute_result"
    }
   ],
   "source": [
    "df.sentiment.value_counts()"
   ]
  },
  {
   "cell_type": "code",
   "execution_count": 18,
   "id": "d1bdd92a",
   "metadata": {},
   "outputs": [
    {
     "data": {
      "text/plain": [
       "pozitif    0.520696\n",
       "negatif    0.305153\n",
       "nötr       0.174150\n",
       "Name: sentiment, dtype: float64"
      ]
     },
     "execution_count": 18,
     "metadata": {},
     "output_type": "execute_result"
    }
   ],
   "source": [
    "df.sentiment.value_counts(normalize=True)"
   ]
  },
  {
   "cell_type": "code",
   "execution_count": 19,
   "id": "fc1b98d0",
   "metadata": {},
   "outputs": [],
   "source": [
    "df[['polarity', 'subjectivity']]= df['comment'].apply(lambda Text: pd.Series(TextBlob(Text).sentiment))"
   ]
  },
  {
   "cell_type": "code",
   "execution_count": 41,
   "id": "f22d0982",
   "metadata": {},
   "outputs": [
    {
     "data": {
      "text/html": [
       "<div>\n",
       "<style scoped>\n",
       "    .dataframe tbody tr th:only-of-type {\n",
       "        vertical-align: middle;\n",
       "    }\n",
       "\n",
       "    .dataframe tbody tr th {\n",
       "        vertical-align: top;\n",
       "    }\n",
       "\n",
       "    .dataframe thead th {\n",
       "        text-align: right;\n",
       "    }\n",
       "</style>\n",
       "<table border=\"1\" class=\"dataframe\">\n",
       "  <thead>\n",
       "    <tr style=\"text-align: right;\">\n",
       "      <th></th>\n",
       "      <th>point</th>\n",
       "      <th>sentiment</th>\n",
       "      <th>comment</th>\n",
       "      <th>polarity</th>\n",
       "      <th>subjectivity</th>\n",
       "      <th>tokenized</th>\n",
       "    </tr>\n",
       "  </thead>\n",
       "  <tbody>\n",
       "    <tr>\n",
       "      <th>0</th>\n",
       "      <td>5.0</td>\n",
       "      <td>pozitif</td>\n",
       "      <td>[ ,  ,  ,  ,  ,  ,  ,  ,  ,  ,  ,  ,  ,  ,  , ...</td>\n",
       "      <td>0.5</td>\n",
       "      <td>1.0</td>\n",
       "      <td>[jean, reno, denince, zaten, leon, filmi, geli...</td>\n",
       "    </tr>\n",
       "    <tr>\n",
       "      <th>1</th>\n",
       "      <td>5.0</td>\n",
       "      <td>pozitif</td>\n",
       "      <td>[ ,  ,  ,  ,  ,  ,  ,  ,  ,  ,  ,  ,  ,  ,  , ...</td>\n",
       "      <td>0.0</td>\n",
       "      <td>0.0</td>\n",
       "      <td>[ekşın, falan, izlemek, istiyorsanız, eğer, bu...</td>\n",
       "    </tr>\n",
       "    <tr>\n",
       "      <th>2</th>\n",
       "      <td>5.0</td>\n",
       "      <td>pozitif</td>\n",
       "      <td>[ ,  ,  ,  ,  ,  ,  ,  ,  ,  ,  ,  ,  ,  ,  , ...</td>\n",
       "      <td>0.0</td>\n",
       "      <td>0.0</td>\n",
       "      <td>[bu, yapım, hakkında, öyle, çok, şey, yazabili...</td>\n",
       "    </tr>\n",
       "    <tr>\n",
       "      <th>3</th>\n",
       "      <td>5.0</td>\n",
       "      <td>pozitif</td>\n",
       "      <td>[ ,  ,  ,  ,  ,  ,  ,  ,  ,  ,  ,  ,  ,  ,  , ...</td>\n",
       "      <td>0.0</td>\n",
       "      <td>0.0</td>\n",
       "      <td>[finali, yeter, sting, shape, of, my, heartbaz...</td>\n",
       "    </tr>\n",
       "    <tr>\n",
       "      <th>4</th>\n",
       "      <td>5.0</td>\n",
       "      <td>pozitif</td>\n",
       "      <td>[ ,  ,  ,  ,  ,  ,  ,  ,  ,  ,  ,  ,  ,  ,  , ...</td>\n",
       "      <td>0.0</td>\n",
       "      <td>0.0</td>\n",
       "      <td>[jean, renobu, adam, kusursuz, birive, oyuncul...</td>\n",
       "    </tr>\n",
       "    <tr>\n",
       "      <th>...</th>\n",
       "      <td>...</td>\n",
       "      <td>...</td>\n",
       "      <td>...</td>\n",
       "      <td>...</td>\n",
       "      <td>...</td>\n",
       "      <td>...</td>\n",
       "    </tr>\n",
       "    <tr>\n",
       "      <th>83222</th>\n",
       "      <td>2.0</td>\n",
       "      <td>negatif</td>\n",
       "      <td>[ ,  ,  ,  ,  ,  ,  ,  ,  ,  ,  ,  ,  ,  ,  , ...</td>\n",
       "      <td>0.0</td>\n",
       "      <td>0.0</td>\n",
       "      <td>[böyle, bi, kadrodan, bçyle, bi, film, ne, den...</td>\n",
       "    </tr>\n",
       "    <tr>\n",
       "      <th>83223</th>\n",
       "      <td>2.0</td>\n",
       "      <td>negatif</td>\n",
       "      <td>[ ,  ,  ,  ,  ,  ,  ,  ,  ,  ,  ,  ,  ,  ,  , ...</td>\n",
       "      <td>0.0</td>\n",
       "      <td>0.0</td>\n",
       "      <td>[yani, bu, kaar, ii, oyuncalrın, ve, yönetmeni...</td>\n",
       "    </tr>\n",
       "    <tr>\n",
       "      <th>83224</th>\n",
       "      <td>1.0</td>\n",
       "      <td>negatif</td>\n",
       "      <td>[ ,  ,  ,  ,  ,  ,  ,  ,  ,  ,  ,  ,  ,  ,  , ...</td>\n",
       "      <td>0.0</td>\n",
       "      <td>0.0</td>\n",
       "      <td>[bugün, dvdsini, alıp, izledim, ama, inanılmaz...</td>\n",
       "    </tr>\n",
       "    <tr>\n",
       "      <th>83225</th>\n",
       "      <td>4.0</td>\n",
       "      <td>pozitif</td>\n",
       "      <td>[ ,  ,  ,  ,  ,  ,  ,  ,  ,  ,  ,  ,  ,  ,  , ...</td>\n",
       "      <td>0.0</td>\n",
       "      <td>0.0</td>\n",
       "      <td>[klasik, korku, ve, gerilim]</td>\n",
       "    </tr>\n",
       "    <tr>\n",
       "      <th>83226</th>\n",
       "      <td>4.0</td>\n",
       "      <td>pozitif</td>\n",
       "      <td>[ ,  ,  ,  ,  ,  ,  ,  ,  ,  ,  ,  ,  ,  ,  , ...</td>\n",
       "      <td>0.0</td>\n",
       "      <td>0.0</td>\n",
       "      <td>[bence, gereğinden, fazla, bir, eleştiri, aldı...</td>\n",
       "    </tr>\n",
       "  </tbody>\n",
       "</table>\n",
       "<p>83227 rows × 6 columns</p>\n",
       "</div>"
      ],
      "text/plain": [
       "       point sentiment                                            comment  \\\n",
       "0        5.0   pozitif  [ ,  ,  ,  ,  ,  ,  ,  ,  ,  ,  ,  ,  ,  ,  , ...   \n",
       "1        5.0   pozitif  [ ,  ,  ,  ,  ,  ,  ,  ,  ,  ,  ,  ,  ,  ,  , ...   \n",
       "2        5.0   pozitif  [ ,  ,  ,  ,  ,  ,  ,  ,  ,  ,  ,  ,  ,  ,  , ...   \n",
       "3        5.0   pozitif  [ ,  ,  ,  ,  ,  ,  ,  ,  ,  ,  ,  ,  ,  ,  , ...   \n",
       "4        5.0   pozitif  [ ,  ,  ,  ,  ,  ,  ,  ,  ,  ,  ,  ,  ,  ,  , ...   \n",
       "...      ...       ...                                                ...   \n",
       "83222    2.0   negatif  [ ,  ,  ,  ,  ,  ,  ,  ,  ,  ,  ,  ,  ,  ,  , ...   \n",
       "83223    2.0   negatif  [ ,  ,  ,  ,  ,  ,  ,  ,  ,  ,  ,  ,  ,  ,  , ...   \n",
       "83224    1.0   negatif  [ ,  ,  ,  ,  ,  ,  ,  ,  ,  ,  ,  ,  ,  ,  , ...   \n",
       "83225    4.0   pozitif  [ ,  ,  ,  ,  ,  ,  ,  ,  ,  ,  ,  ,  ,  ,  , ...   \n",
       "83226    4.0   pozitif  [ ,  ,  ,  ,  ,  ,  ,  ,  ,  ,  ,  ,  ,  ,  , ...   \n",
       "\n",
       "       polarity  subjectivity  \\\n",
       "0           0.5           1.0   \n",
       "1           0.0           0.0   \n",
       "2           0.0           0.0   \n",
       "3           0.0           0.0   \n",
       "4           0.0           0.0   \n",
       "...         ...           ...   \n",
       "83222       0.0           0.0   \n",
       "83223       0.0           0.0   \n",
       "83224       0.0           0.0   \n",
       "83225       0.0           0.0   \n",
       "83226       0.0           0.0   \n",
       "\n",
       "                                               tokenized  \n",
       "0      [jean, reno, denince, zaten, leon, filmi, geli...  \n",
       "1      [ekşın, falan, izlemek, istiyorsanız, eğer, bu...  \n",
       "2      [bu, yapım, hakkında, öyle, çok, şey, yazabili...  \n",
       "3      [finali, yeter, sting, shape, of, my, heartbaz...  \n",
       "4      [jean, renobu, adam, kusursuz, birive, oyuncul...  \n",
       "...                                                  ...  \n",
       "83222  [böyle, bi, kadrodan, bçyle, bi, film, ne, den...  \n",
       "83223  [yani, bu, kaar, ii, oyuncalrın, ve, yönetmeni...  \n",
       "83224  [bugün, dvdsini, alıp, izledim, ama, inanılmaz...  \n",
       "83225                       [klasik, korku, ve, gerilim]  \n",
       "83226  [bence, gereğinden, fazla, bir, eleştiri, aldı...  \n",
       "\n",
       "[83227 rows x 6 columns]"
      ]
     },
     "execution_count": 41,
     "metadata": {},
     "output_type": "execute_result"
    }
   ],
   "source": [
    "df"
   ]
  },
  {
   "cell_type": "code",
   "execution_count": 21,
   "id": "385e2498",
   "metadata": {},
   "outputs": [
    {
     "data": {
      "text/plain": [
       "<AxesSubplot:xlabel='point', ylabel='count'>"
      ]
     },
     "execution_count": 21,
     "metadata": {},
     "output_type": "execute_result"
    },
    {
     "data": {
      "image/png": "[encoded data removed]",
      "text/plain": [
       "<Figure size 432x288 with 1 Axes>"
      ]
     },
     "metadata": {
      "needs_background": "light"
     },
     "output_type": "display_data"
    }
   ],
   "source": [
    "sns.countplot(x=df['point']) "
   ]
  },
  {
   "cell_type": "code",
   "execution_count": 22,
   "id": "44bff702",
   "metadata": {},
   "outputs": [],
   "source": [
    "def create_wordcloud(comment):\n",
    "    mask = np.array(Image.open(\"images.jpg\"))\n",
    "    stopwords = set(STOPWORDS)\n",
    "    wc = WordCloud(background_color=\"white\",\n",
    "                  mask = mask,\n",
    "                  max_words=50000,\n",
    "                  stopwords=stopwords)\n",
    "    wc.generate(str(comment))\n",
    "    wc.to_file(\"wc.png\")\n",
    "    print(\"Word Cloud Saved Successfully\")\n",
    "    path=\"wc.png\"\n",
    "    display(Image.open(path))"
   ]
  },
  {
   "cell_type": "code",
   "execution_count": 23,
   "id": "448a73d6",
   "metadata": {},
   "outputs": [
    {
     "name": "stdout",
     "output_type": "stream",
     "text": [
      "Word Cloud Saved Successfully\n"
     ]
    },
    {
     "data": {
      "image/png": "[encoded data removed]",
      "text/plain": [
       "<PIL.PngImagePlugin.PngImageFile image mode=RGB size=259x194 at 0x1BED8C6F460>"
      ]
     },
     "metadata": {},
     "output_type": "display_data"
    }
   ],
   "source": [
    "comment1=df[df[\"point\"]==1.0]\n",
    "create_wordcloud(comment1.comment)"
   ]
  },
  {
   "cell_type": "code",
   "execution_count": 24,
   "id": "182c7fed",
   "metadata": {},
   "outputs": [
    {
     "name": "stdout",
     "output_type": "stream",
     "text": [
      "Word Cloud Saved Successfully\n"
     ]
    },
    {
     "data": {
      "image/png": "[encoded data removed]",
      "text/plain": [
       "<PIL.PngImagePlugin.PngImageFile image mode=RGB size=259x194 at 0x1BED8CCCF10>"
      ]
     },
     "metadata": {},
     "output_type": "display_data"
    }
   ],
   "source": [
    "comment5=df[df[\"point\"]==5.0]\n",
    "create_wordcloud(comment5.comment)"
   ]
  },
  {
   "cell_type": "code",
   "execution_count": 25,
   "id": "61979ef0",
   "metadata": {},
   "outputs": [],
   "source": [
    "df['comment']=df['comment'].str.lower()                 #bütün sütunu küçük harfe çevirir\n",
    "df['comment']=df['comment'].str.replace('[^\\w\\s]','')   #noktalama işaretlerini kaldırır\n",
    "df['comment']=df['comment'].str.replace('[\\d+]','')     #rakamları kaldırır\n",
    "df['comment']=df['comment'].str.replace('[\\n]','')      #yeni satırları kaldırır\n",
    "df['comment']=df['comment'].str.replace('[\\r]','')      # enter kaldırı"
   ]
  },
  {
   "cell_type": "code",
   "execution_count": 39,
   "id": "7b60f025",
   "metadata": {},
   "outputs": [
    {
     "data": {
      "text/html": [
       "<div>\n",
       "<style scoped>\n",
       "    .dataframe tbody tr th:only-of-type {\n",
       "        vertical-align: middle;\n",
       "    }\n",
       "\n",
       "    .dataframe tbody tr th {\n",
       "        vertical-align: top;\n",
       "    }\n",
       "\n",
       "    .dataframe thead th {\n",
       "        text-align: right;\n",
       "    }\n",
       "</style>\n",
       "<table border=\"1\" class=\"dataframe\">\n",
       "  <thead>\n",
       "    <tr style=\"text-align: right;\">\n",
       "      <th></th>\n",
       "      <th>point</th>\n",
       "      <th>sentiment</th>\n",
       "      <th>comment</th>\n",
       "      <th>polarity</th>\n",
       "      <th>subjectivity</th>\n",
       "      <th>tokenized</th>\n",
       "    </tr>\n",
       "  </thead>\n",
       "  <tbody>\n",
       "    <tr>\n",
       "      <th>30054</th>\n",
       "      <td>3.0</td>\n",
       "      <td>nötr</td>\n",
       "      <td>[ ,  ,  ,  ,  ,  ,  ,  ,  ,  ,  ,  ,  ,  ,  , ...</td>\n",
       "      <td>0.000000</td>\n",
       "      <td>0.000000</td>\n",
       "      <td>[fragmanında, gülmüştüm, filmden, beklentim, a...</td>\n",
       "    </tr>\n",
       "    <tr>\n",
       "      <th>35998</th>\n",
       "      <td>4.0</td>\n",
       "      <td>pozitif</td>\n",
       "      <td>[ ,  ,  ,  ,  ,  ,  ,  ,  ,  ,  ,  ,  ,  ,  , ...</td>\n",
       "      <td>0.000000</td>\n",
       "      <td>0.000000</td>\n",
       "      <td>[gerçekten, güzel, ama, daha, iyi, olabilirdif...</td>\n",
       "    </tr>\n",
       "    <tr>\n",
       "      <th>63767</th>\n",
       "      <td>2.0</td>\n",
       "      <td>negatif</td>\n",
       "      <td>[ ,  ,  ,  ,  ,  ,  ,  ,  ,  ,  ,  ,  ,  ,  , ...</td>\n",
       "      <td>0.000000</td>\n",
       "      <td>0.000000</td>\n",
       "      <td>[konu, olarak, iyiye, benziyor, derken, gene, ...</td>\n",
       "    </tr>\n",
       "    <tr>\n",
       "      <th>69244</th>\n",
       "      <td>2.0</td>\n",
       "      <td>negatif</td>\n",
       "      <td>[ ,  ,  ,  ,  ,  ,  ,  ,  ,  ,  ,  ,  ,  ,  , ...</td>\n",
       "      <td>0.000000</td>\n",
       "      <td>0.000000</td>\n",
       "      <td>[az, önce, izledim, filmi, çok, etkileyici, sa...</td>\n",
       "    </tr>\n",
       "    <tr>\n",
       "      <th>25558</th>\n",
       "      <td>2.0</td>\n",
       "      <td>negatif</td>\n",
       "      <td>[ ,  ,  ,  ,  ,  ,  ,  ,  ,  ,  ,  ,  ,  ,  , ...</td>\n",
       "      <td>0.000000</td>\n",
       "      <td>1.000000</td>\n",
       "      <td>[spielbergin, filmleri, her, zaman, kiyisindan...</td>\n",
       "    </tr>\n",
       "    <tr>\n",
       "      <th>43609</th>\n",
       "      <td>5.0</td>\n",
       "      <td>pozitif</td>\n",
       "      <td>[ ,  ,  ,  ,  ,  ,  ,  ,  ,  ,  ,  ,  ,  ,  , ...</td>\n",
       "      <td>0.000000</td>\n",
       "      <td>0.000000</td>\n",
       "      <td>[merhaba, filmi, nasıl, izleriz, hiç, bir, yer...</td>\n",
       "    </tr>\n",
       "    <tr>\n",
       "      <th>2047</th>\n",
       "      <td>4.0</td>\n",
       "      <td>pozitif</td>\n",
       "      <td>[ ,  ,  ,  ,  ,  ,  ,  ,  ,  ,  ,  ,  ,  ,  , ...</td>\n",
       "      <td>0.000000</td>\n",
       "      <td>0.000000</td>\n",
       "      <td>[bence, cok, seyirlik, eglencelik, bır, fılm, ...</td>\n",
       "    </tr>\n",
       "    <tr>\n",
       "      <th>791</th>\n",
       "      <td>4.0</td>\n",
       "      <td>pozitif</td>\n",
       "      <td>[ ,  ,  ,  ,  ,  ,  ,  ,  ,  ,  ,  ,  ,  ,  , ...</td>\n",
       "      <td>0.000000</td>\n",
       "      <td>0.000000</td>\n",
       "      <td>[filmde, her, iki, konuyu, çok, iyi, yorumlamı...</td>\n",
       "    </tr>\n",
       "    <tr>\n",
       "      <th>70566</th>\n",
       "      <td>0.0</td>\n",
       "      <td>negatif</td>\n",
       "      <td>[ ,  ,  ,  ,  ,  ,  ,  ,  ,  ,  ,  ,  ,  ,  , ...</td>\n",
       "      <td>0.000000</td>\n",
       "      <td>0.000000</td>\n",
       "      <td>[komik, kısımları, olmasına, karşın, çok, boş,...</td>\n",
       "    </tr>\n",
       "    <tr>\n",
       "      <th>82935</th>\n",
       "      <td>2.0</td>\n",
       "      <td>negatif</td>\n",
       "      <td>[ ,  ,  ,  ,  ,  ,  ,  ,  ,  ,  ,  ,  ,  ,  , ...</td>\n",
       "      <td>0.000000</td>\n",
       "      <td>0.000000</td>\n",
       "      <td>[yaşananlarla, yapımcılığın, ne, alakası, var,...</td>\n",
       "    </tr>\n",
       "    <tr>\n",
       "      <th>45560</th>\n",
       "      <td>5.0</td>\n",
       "      <td>pozitif</td>\n",
       "      <td>[ ,  ,  ,  ,  ,  ,  ,  ,  ,  ,  ,  ,  ,  ,  , ...</td>\n",
       "      <td>0.000000</td>\n",
       "      <td>0.000000</td>\n",
       "      <td>[çok, güzel, anlatlmış, bir, biyografi, tabiki...</td>\n",
       "    </tr>\n",
       "    <tr>\n",
       "      <th>30267</th>\n",
       "      <td>4.0</td>\n",
       "      <td>pozitif</td>\n",
       "      <td>[ ,  ,  ,  ,  ,  ,  ,  ,  ,  ,  ,  ,  ,  ,  , ...</td>\n",
       "      <td>0.000000</td>\n",
       "      <td>0.000000</td>\n",
       "      <td>[demiyeceğim, diyorum, ama, yok, öyle, bir, şe...</td>\n",
       "    </tr>\n",
       "    <tr>\n",
       "      <th>12713</th>\n",
       "      <td>3.0</td>\n",
       "      <td>nötr</td>\n",
       "      <td>[ ,  ,  ,  ,  ,  ,  ,  ,  ,  ,  ,  ,  ,  ,  , ...</td>\n",
       "      <td>0.000000</td>\n",
       "      <td>0.000000</td>\n",
       "      <td>[izlemesi, zevkli, inanılmaz, etkileyici, olma...</td>\n",
       "    </tr>\n",
       "    <tr>\n",
       "      <th>57779</th>\n",
       "      <td>2.0</td>\n",
       "      <td>negatif</td>\n",
       "      <td>[ ,  ,  ,  ,  ,  ,  ,  ,  ,  ,  ,  ,  ,  ,  , ...</td>\n",
       "      <td>0.000000</td>\n",
       "      <td>0.000000</td>\n",
       "      <td>[kesinlikle, birinci, film, daha, güzeldi]</td>\n",
       "    </tr>\n",
       "    <tr>\n",
       "      <th>14303</th>\n",
       "      <td>5.0</td>\n",
       "      <td>pozitif</td>\n",
       "      <td>[ ,  ,  ,  ,  ,  ,  ,  ,  ,  ,  ,  ,  ,  ,  , ...</td>\n",
       "      <td>0.083333</td>\n",
       "      <td>0.916667</td>\n",
       "      <td>[sinema, tarihi, bu, filmsiz, olamazdı, herald...</td>\n",
       "    </tr>\n",
       "    <tr>\n",
       "      <th>42801</th>\n",
       "      <td>2.0</td>\n",
       "      <td>negatif</td>\n",
       "      <td>[ ,  ,  ,  ,  ,  ,  ,  ,  ,  ,  ,  ,  ,  ,  , ...</td>\n",
       "      <td>0.000000</td>\n",
       "      <td>0.000000</td>\n",
       "      <td>[godzilla, efsanedir, en, eski, filmine, kadar...</td>\n",
       "    </tr>\n",
       "    <tr>\n",
       "      <th>39733</th>\n",
       "      <td>0.0</td>\n",
       "      <td>negatif</td>\n",
       "      <td>[ ,  ,  ,  ,  ,  ,  ,  ,  ,  ,  ,  ,  ,  ,  , ...</td>\n",
       "      <td>0.000000</td>\n",
       "      <td>0.000000</td>\n",
       "      <td>[bu, filmi, buradaki, yorumların, ve, aldığı, ...</td>\n",
       "    </tr>\n",
       "    <tr>\n",
       "      <th>52268</th>\n",
       "      <td>4.0</td>\n",
       "      <td>pozitif</td>\n",
       "      <td>[ ,  ,  ,  ,  ,  ,  ,  ,  ,  ,  ,  ,  ,  ,  , ...</td>\n",
       "      <td>0.000000</td>\n",
       "      <td>0.000000</td>\n",
       "      <td>[suç, dünyasına, giriş, scarface, ekonomik, kr...</td>\n",
       "    </tr>\n",
       "    <tr>\n",
       "      <th>35753</th>\n",
       "      <td>2.0</td>\n",
       "      <td>negatif</td>\n",
       "      <td>[ ,  ,  ,  ,  ,  ,  ,  ,  ,  ,  ,  ,  ,  ,  , ...</td>\n",
       "      <td>0.000000</td>\n",
       "      <td>0.000000</td>\n",
       "      <td>[saygın, sinema, eleştirmenlerininilgili, kuru...</td>\n",
       "    </tr>\n",
       "    <tr>\n",
       "      <th>38184</th>\n",
       "      <td>2.0</td>\n",
       "      <td>negatif</td>\n",
       "      <td>[ ,  ,  ,  ,  ,  ,  ,  ,  ,  ,  ,  ,  ,  ,  , ...</td>\n",
       "      <td>0.150000</td>\n",
       "      <td>0.650000</td>\n",
       "      <td>[film, güzeldi, hoştu, fakat, sanırım, gözden,...</td>\n",
       "    </tr>\n",
       "  </tbody>\n",
       "</table>\n",
       "</div>"
      ],
      "text/plain": [
       "       point sentiment                                            comment  \\\n",
       "30054    3.0      nötr  [ ,  ,  ,  ,  ,  ,  ,  ,  ,  ,  ,  ,  ,  ,  , ...   \n",
       "35998    4.0   pozitif  [ ,  ,  ,  ,  ,  ,  ,  ,  ,  ,  ,  ,  ,  ,  , ...   \n",
       "63767    2.0   negatif  [ ,  ,  ,  ,  ,  ,  ,  ,  ,  ,  ,  ,  ,  ,  , ...   \n",
       "69244    2.0   negatif  [ ,  ,  ,  ,  ,  ,  ,  ,  ,  ,  ,  ,  ,  ,  , ...   \n",
       "25558    2.0   negatif  [ ,  ,  ,  ,  ,  ,  ,  ,  ,  ,  ,  ,  ,  ,  , ...   \n",
       "43609    5.0   pozitif  [ ,  ,  ,  ,  ,  ,  ,  ,  ,  ,  ,  ,  ,  ,  , ...   \n",
       "2047     4.0   pozitif  [ ,  ,  ,  ,  ,  ,  ,  ,  ,  ,  ,  ,  ,  ,  , ...   \n",
       "791      4.0   pozitif  [ ,  ,  ,  ,  ,  ,  ,  ,  ,  ,  ,  ,  ,  ,  , ...   \n",
       "70566    0.0   negatif  [ ,  ,  ,  ,  ,  ,  ,  ,  ,  ,  ,  ,  ,  ,  , ...   \n",
       "82935    2.0   negatif  [ ,  ,  ,  ,  ,  ,  ,  ,  ,  ,  ,  ,  ,  ,  , ...   \n",
       "45560    5.0   pozitif  [ ,  ,  ,  ,  ,  ,  ,  ,  ,  ,  ,  ,  ,  ,  , ...   \n",
       "30267    4.0   pozitif  [ ,  ,  ,  ,  ,  ,  ,  ,  ,  ,  ,  ,  ,  ,  , ...   \n",
       "12713    3.0      nötr  [ ,  ,  ,  ,  ,  ,  ,  ,  ,  ,  ,  ,  ,  ,  , ...   \n",
       "57779    2.0   negatif  [ ,  ,  ,  ,  ,  ,  ,  ,  ,  ,  ,  ,  ,  ,  , ...   \n",
       "14303    5.0   pozitif  [ ,  ,  ,  ,  ,  ,  ,  ,  ,  ,  ,  ,  ,  ,  , ...   \n",
       "42801    2.0   negatif  [ ,  ,  ,  ,  ,  ,  ,  ,  ,  ,  ,  ,  ,  ,  , ...   \n",
       "39733    0.0   negatif  [ ,  ,  ,  ,  ,  ,  ,  ,  ,  ,  ,  ,  ,  ,  , ...   \n",
       "52268    4.0   pozitif  [ ,  ,  ,  ,  ,  ,  ,  ,  ,  ,  ,  ,  ,  ,  , ...   \n",
       "35753    2.0   negatif  [ ,  ,  ,  ,  ,  ,  ,  ,  ,  ,  ,  ,  ,  ,  , ...   \n",
       "38184    2.0   negatif  [ ,  ,  ,  ,  ,  ,  ,  ,  ,  ,  ,  ,  ,  ,  , ...   \n",
       "\n",
       "       polarity  subjectivity  \\\n",
       "30054  0.000000      0.000000   \n",
       "35998  0.000000      0.000000   \n",
       "63767  0.000000      0.000000   \n",
       "69244  0.000000      0.000000   \n",
       "25558  0.000000      1.000000   \n",
       "43609  0.000000      0.000000   \n",
       "2047   0.000000      0.000000   \n",
       "791    0.000000      0.000000   \n",
       "70566  0.000000      0.000000   \n",
       "82935  0.000000      0.000000   \n",
       "45560  0.000000      0.000000   \n",
       "30267  0.000000      0.000000   \n",
       "12713  0.000000      0.000000   \n",
       "57779  0.000000      0.000000   \n",
       "14303  0.083333      0.916667   \n",
       "42801  0.000000      0.000000   \n",
       "39733  0.000000      0.000000   \n",
       "52268  0.000000      0.000000   \n",
       "35753  0.000000      0.000000   \n",
       "38184  0.150000      0.650000   \n",
       "\n",
       "                                               tokenized  \n",
       "30054  [fragmanında, gülmüştüm, filmden, beklentim, a...  \n",
       "35998  [gerçekten, güzel, ama, daha, iyi, olabilirdif...  \n",
       "63767  [konu, olarak, iyiye, benziyor, derken, gene, ...  \n",
       "69244  [az, önce, izledim, filmi, çok, etkileyici, sa...  \n",
       "25558  [spielbergin, filmleri, her, zaman, kiyisindan...  \n",
       "43609  [merhaba, filmi, nasıl, izleriz, hiç, bir, yer...  \n",
       "2047   [bence, cok, seyirlik, eglencelik, bır, fılm, ...  \n",
       "791    [filmde, her, iki, konuyu, çok, iyi, yorumlamı...  \n",
       "70566  [komik, kısımları, olmasına, karşın, çok, boş,...  \n",
       "82935  [yaşananlarla, yapımcılığın, ne, alakası, var,...  \n",
       "45560  [çok, güzel, anlatlmış, bir, biyografi, tabiki...  \n",
       "30267  [demiyeceğim, diyorum, ama, yok, öyle, bir, şe...  \n",
       "12713  [izlemesi, zevkli, inanılmaz, etkileyici, olma...  \n",
       "57779         [kesinlikle, birinci, film, daha, güzeldi]  \n",
       "14303  [sinema, tarihi, bu, filmsiz, olamazdı, herald...  \n",
       "42801  [godzilla, efsanedir, en, eski, filmine, kadar...  \n",
       "39733  [bu, filmi, buradaki, yorumların, ve, aldığı, ...  \n",
       "52268  [suç, dünyasına, giriş, scarface, ekonomik, kr...  \n",
       "35753  [saygın, sinema, eleştirmenlerininilgili, kuru...  \n",
       "38184  [film, güzeldi, hoştu, fakat, sanırım, gözden,...  "
      ]
     },
     "execution_count": 39,
     "metadata": {},
     "output_type": "execute_result"
    }
   ],
   "source": [
    "df.sample(20)"
   ]
  },
  {
   "cell_type": "code",
   "execution_count": 38,
   "id": "6b45dcb8",
   "metadata": {},
   "outputs": [
    {
     "data": {
      "text/plain": [
       "[' ',\n",
       " ' ',\n",
       " ' ',\n",
       " ' ',\n",
       " ' ',\n",
       " ' ',\n",
       " ' ',\n",
       " ' ',\n",
       " ' ',\n",
       " ' ',\n",
       " ' ',\n",
       " ' ',\n",
       " ' ',\n",
       " ' ',\n",
       " ' ',\n",
       " ' ',\n",
       " ' ',\n",
       " ' ',\n",
       " ' ',\n",
       " ' ',\n",
       " ' ',\n",
       " ' ',\n",
       " 'b',\n",
       " 'u',\n",
       " ' ',\n",
       " 'f',\n",
       " 'i',\n",
       " 'l',\n",
       " 'm',\n",
       " 'i',\n",
       " 'n',\n",
       " ' ',\n",
       " 'i',\n",
       " 'z',\n",
       " 'm',\n",
       " 'i',\n",
       " 'r',\n",
       " 'd',\n",
       " 'e',\n",
       " ' ',\n",
       " 'ş',\n",
       " 'e',\n",
       " 'h',\n",
       " 'r',\n",
       " 'i',\n",
       " 'n',\n",
       " ' ',\n",
       " 'e',\n",
       " 'n',\n",
       " ' ',\n",
       " 'u',\n",
       " 'z',\n",
       " 'a',\n",
       " 'k',\n",
       " ' ',\n",
       " 'n',\n",
       " 'k',\n",
       " 't',\n",
       " 'a',\n",
       " 'l',\n",
       " 'a',\n",
       " 'r',\n",
       " 'ı',\n",
       " 'n',\n",
       " 'd',\n",
       " 'a',\n",
       " ' ',\n",
       " 'v',\n",
       " 'e',\n",
       " ' ',\n",
       " 's',\n",
       " 'a',\n",
       " 'd',\n",
       " 'e',\n",
       " 'c',\n",
       " 'e',\n",
       " ' ',\n",
       " ' ',\n",
       " 's',\n",
       " 'a',\n",
       " 'l',\n",
       " 'n',\n",
       " 'd',\n",
       " 'a',\n",
       " ' ',\n",
       " 'g',\n",
       " 'ö',\n",
       " 's',\n",
       " 't',\n",
       " 'e',\n",
       " 'r',\n",
       " 'i',\n",
       " 'l',\n",
       " 'i',\n",
       " 'y',\n",
       " ' ',\n",
       " 'l',\n",
       " 'm',\n",
       " 'a',\n",
       " 's',\n",
       " 'ı',\n",
       " ' ',\n",
       " 'ç',\n",
       " 'k',\n",
       " ' ',\n",
       " 'y',\n",
       " 'a',\n",
       " 'z',\n",
       " 'ı',\n",
       " 'k',\n",
       " ' ',\n",
       " ' ',\n",
       " 'b',\n",
       " 'i',\n",
       " 'r',\n",
       " 'b',\n",
       " 'i',\n",
       " 'r',\n",
       " 'i',\n",
       " 'n',\n",
       " 'e',\n",
       " ' ',\n",
       " 'y',\n",
       " 'a',\n",
       " 'k',\n",
       " 'ı',\n",
       " 'n',\n",
       " ' ',\n",
       " 'b',\n",
       " 'i',\n",
       " 'r',\n",
       " 'ç',\n",
       " 'k',\n",
       " ' ',\n",
       " 's',\n",
       " 'a',\n",
       " 'l',\n",
       " 'n',\n",
       " 'd',\n",
       " 'a',\n",
       " ' ',\n",
       " 'n',\n",
       " 'e',\n",
       " 'r',\n",
       " 'e',\n",
       " 'd',\n",
       " 'e',\n",
       " 'y',\n",
       " 's',\n",
       " 'e',\n",
       " ' ',\n",
       " 'a',\n",
       " 'y',\n",
       " 'n',\n",
       " 'ı',\n",
       " ' ',\n",
       " 'f',\n",
       " 'i',\n",
       " 'l',\n",
       " 'm',\n",
       " 'l',\n",
       " 'e',\n",
       " 'r',\n",
       " ' ',\n",
       " 'g',\n",
       " 'ö',\n",
       " 's',\n",
       " 't',\n",
       " 'e',\n",
       " 'r',\n",
       " 'i',\n",
       " 'l',\n",
       " 'i',\n",
       " 'l',\n",
       " 'i',\n",
       " 'r',\n",
       " 'k',\n",
       " 'e',\n",
       " 'n',\n",
       " ' ',\n",
       " 'b',\n",
       " 'u',\n",
       " ' ',\n",
       " 'f',\n",
       " 'i',\n",
       " 'l',\n",
       " 'm',\n",
       " 'e',\n",
       " ' ',\n",
       " 'b',\n",
       " 'i',\n",
       " 'r',\n",
       " 'k',\n",
       " 'a',\n",
       " 'ç',\n",
       " ' ',\n",
       " 's',\n",
       " 'e',\n",
       " 'a',\n",
       " 'n',\n",
       " 's',\n",
       " ' ',\n",
       " 'b',\n",
       " 'i',\n",
       " 'l',\n",
       " 'e',\n",
       " ' ',\n",
       " 'a',\n",
       " 'y',\n",
       " 'r',\n",
       " 'ı',\n",
       " 'l',\n",
       " 'm',\n",
       " 'a',\n",
       " 'm',\n",
       " 'ı',\n",
       " 'ş',\n",
       " ' ',\n",
       " 'u',\n",
       " 'm',\n",
       " 'a',\n",
       " 'r',\n",
       " 'ı',\n",
       " 'm',\n",
       " ' ',\n",
       " 'b',\n",
       " 'u',\n",
       " ' ',\n",
       " 'h',\n",
       " 'a',\n",
       " 't',\n",
       " 'a',\n",
       " 'l',\n",
       " 'a',\n",
       " 'r',\n",
       " 'ı',\n",
       " 'n',\n",
       " 'ı',\n",
       " ' ',\n",
       " 'k',\n",
       " 'ı',\n",
       " 's',\n",
       " 'a',\n",
       " ' ',\n",
       " 's',\n",
       " 'ü',\n",
       " 'r',\n",
       " 'e',\n",
       " 'd',\n",
       " 'e',\n",
       " ' ',\n",
       " 'g',\n",
       " 'ö',\n",
       " 'r',\n",
       " 'ü',\n",
       " 'r',\n",
       " 'l',\n",
       " 'e',\n",
       " 'r',\n",
       " ' ',\n",
       " ' ',\n",
       " ' ',\n",
       " ' ',\n",
       " ' ',\n",
       " ' ',\n",
       " ' ',\n",
       " ' ',\n",
       " ' ',\n",
       " ' ',\n",
       " ' ',\n",
       " ' ',\n",
       " ' ',\n",
       " ' ',\n",
       " ' ',\n",
       " ' ',\n",
       " ' ',\n",
       " ' ',\n",
       " ' ',\n",
       " ' ']"
      ]
     },
     "execution_count": 38,
     "metadata": {},
     "output_type": "execute_result"
    }
   ],
   "source": [
    "df[\"comment\"][522]    #522. yorum\n"
   ]
  },
  {
   "cell_type": "code",
   "execution_count": 28,
   "id": "f457be40",
   "metadata": {},
   "outputs": [
    {
     "data": {
      "text/plain": [
       "4.0"
      ]
     },
     "execution_count": 28,
     "metadata": {},
     "output_type": "execute_result"
    }
   ],
   "source": [
    "df[\"point\"][522]     #522.yoruma verilen puan"
   ]
  },
  {
   "cell_type": "markdown",
   "id": "13d4b814",
   "metadata": {},
   "source": [
    "## Tokenize"
   ]
  },
  {
   "cell_type": "code",
   "execution_count": 29,
   "id": "df7c9920",
   "metadata": {},
   "outputs": [],
   "source": [
    "tokenizer=TreebankWordTokenizer()\n",
    "df['tokenized']=[tokenizer.tokenize(str(i)) for i in df['comment'].values]"
   ]
  },
  {
   "cell_type": "code",
   "execution_count": 37,
   "id": "0ed958e7",
   "metadata": {},
   "outputs": [
    {
     "data": {
      "text/plain": [
       "0        [ ,  ,  ,  ,  ,  ,  ,  ,  ,  ,  ,  ,  ,  ,  , ...\n",
       "1        [ ,  ,  ,  ,  ,  ,  ,  ,  ,  ,  ,  ,  ,  ,  , ...\n",
       "2        [ ,  ,  ,  ,  ,  ,  ,  ,  ,  ,  ,  ,  ,  ,  , ...\n",
       "3        [ ,  ,  ,  ,  ,  ,  ,  ,  ,  ,  ,  ,  ,  ,  , ...\n",
       "4        [ ,  ,  ,  ,  ,  ,  ,  ,  ,  ,  ,  ,  ,  ,  , ...\n",
       "                               ...                        \n",
       "83222    [ ,  ,  ,  ,  ,  ,  ,  ,  ,  ,  ,  ,  ,  ,  , ...\n",
       "83223    [ ,  ,  ,  ,  ,  ,  ,  ,  ,  ,  ,  ,  ,  ,  , ...\n",
       "83224    [ ,  ,  ,  ,  ,  ,  ,  ,  ,  ,  ,  ,  ,  ,  , ...\n",
       "83225    [ ,  ,  ,  ,  ,  ,  ,  ,  ,  ,  ,  ,  ,  ,  , ...\n",
       "83226    [ ,  ,  ,  ,  ,  ,  ,  ,  ,  ,  ,  ,  ,  ,  , ...\n",
       "Name: comment, Length: 83227, dtype: object"
      ]
     },
     "execution_count": 37,
     "metadata": {},
     "output_type": "execute_result"
    }
   ],
   "source": [
    "df[\"comment\"]"
   ]
  },
  {
   "cell_type": "markdown",
   "id": "a6820bf9",
   "metadata": {},
   "source": [
    "## Stopwords"
   ]
  },
  {
   "cell_type": "code",
   "execution_count": 31,
   "id": "7cd02b72",
   "metadata": {},
   "outputs": [
    {
     "name": "stderr",
     "output_type": "stream",
     "text": [
      "[nltk_data] Downloading package punkt to\n",
      "[nltk_data]     C:\\Users\\Sarıkaya\\AppData\\Roaming\\nltk_data...\n",
      "[nltk_data]   Package punkt is already up-to-date!\n"
     ]
    },
    {
     "data": {
      "text/plain": [
       "True"
      ]
     },
     "execution_count": 31,
     "metadata": {},
     "output_type": "execute_result"
    }
   ],
   "source": [
    "nltk.download('punkt')"
   ]
  },
  {
   "cell_type": "code",
   "execution_count": 32,
   "id": "1fe2b367",
   "metadata": {},
   "outputs": [],
   "source": [
    "from nltk.corpus import stopwords\n",
    "stopwords= nltk.corpus.stopwords.words('turkish')"
   ]
  },
  {
   "cell_type": "code",
   "execution_count": 33,
   "id": "ca0e2b10",
   "metadata": {},
   "outputs": [],
   "source": [
    "df['comment']=df['comment'].apply(lambda x: [word for word in x if word not in stopwords])"
   ]
  },
  {
   "cell_type": "code",
   "execution_count": 34,
   "id": "fa68ca70",
   "metadata": {},
   "outputs": [
    {
     "name": "stderr",
     "output_type": "stream",
     "text": [
      "[nltk_data] Downloading package wordnet to\n",
      "[nltk_data]     C:\\Users\\Sarıkaya\\AppData\\Roaming\\nltk_data...\n",
      "[nltk_data]   Package wordnet is already up-to-date!\n"
     ]
    },
    {
     "data": {
      "text/plain": [
       "True"
      ]
     },
     "execution_count": 34,
     "metadata": {},
     "output_type": "execute_result"
    }
   ],
   "source": [
    "nltk.download('wordnet')"
   ]
  },
  {
   "cell_type": "markdown",
   "id": "b4d43ff4",
   "metadata": {},
   "source": [
    "## Clasification"
   ]
  },
  {
   "cell_type": "code",
   "execution_count": 35,
   "id": "d26e5f84",
   "metadata": {},
   "outputs": [],
   "source": [
    "#!pip install tensorflow"
   ]
  },
  {
   "cell_type": "code",
   "execution_count": 36,
   "id": "1671fa8d",
   "metadata": {},
   "outputs": [
    {
     "data": {
      "text/html": [
       "<div>\n",
       "<style scoped>\n",
       "    .dataframe tbody tr th:only-of-type {\n",
       "        vertical-align: middle;\n",
       "    }\n",
       "\n",
       "    .dataframe tbody tr th {\n",
       "        vertical-align: top;\n",
       "    }\n",
       "\n",
       "    .dataframe thead th {\n",
       "        text-align: right;\n",
       "    }\n",
       "</style>\n",
       "<table border=\"1\" class=\"dataframe\">\n",
       "  <thead>\n",
       "    <tr style=\"text-align: right;\">\n",
       "      <th></th>\n",
       "      <th>point</th>\n",
       "      <th>sentiment</th>\n",
       "      <th>comment</th>\n",
       "      <th>polarity</th>\n",
       "      <th>subjectivity</th>\n",
       "      <th>tokenized</th>\n",
       "    </tr>\n",
       "  </thead>\n",
       "  <tbody>\n",
       "    <tr>\n",
       "      <th>0</th>\n",
       "      <td>5.0</td>\n",
       "      <td>pozitif</td>\n",
       "      <td>[ ,  ,  ,  ,  ,  ,  ,  ,  ,  ,  ,  ,  ,  ,  , ...</td>\n",
       "      <td>0.5</td>\n",
       "      <td>1.0</td>\n",
       "      <td>[jean, reno, denince, zaten, leon, filmi, geli...</td>\n",
       "    </tr>\n",
       "    <tr>\n",
       "      <th>1</th>\n",
       "      <td>5.0</td>\n",
       "      <td>pozitif</td>\n",
       "      <td>[ ,  ,  ,  ,  ,  ,  ,  ,  ,  ,  ,  ,  ,  ,  , ...</td>\n",
       "      <td>0.0</td>\n",
       "      <td>0.0</td>\n",
       "      <td>[ekşın, falan, izlemek, istiyorsanız, eğer, bu...</td>\n",
       "    </tr>\n",
       "    <tr>\n",
       "      <th>2</th>\n",
       "      <td>5.0</td>\n",
       "      <td>pozitif</td>\n",
       "      <td>[ ,  ,  ,  ,  ,  ,  ,  ,  ,  ,  ,  ,  ,  ,  , ...</td>\n",
       "      <td>0.0</td>\n",
       "      <td>0.0</td>\n",
       "      <td>[bu, yapım, hakkında, öyle, çok, şey, yazabili...</td>\n",
       "    </tr>\n",
       "    <tr>\n",
       "      <th>3</th>\n",
       "      <td>5.0</td>\n",
       "      <td>pozitif</td>\n",
       "      <td>[ ,  ,  ,  ,  ,  ,  ,  ,  ,  ,  ,  ,  ,  ,  , ...</td>\n",
       "      <td>0.0</td>\n",
       "      <td>0.0</td>\n",
       "      <td>[finali, yeter, sting, shape, of, my, heartbaz...</td>\n",
       "    </tr>\n",
       "    <tr>\n",
       "      <th>4</th>\n",
       "      <td>5.0</td>\n",
       "      <td>pozitif</td>\n",
       "      <td>[ ,  ,  ,  ,  ,  ,  ,  ,  ,  ,  ,  ,  ,  ,  , ...</td>\n",
       "      <td>0.0</td>\n",
       "      <td>0.0</td>\n",
       "      <td>[jean, renobu, adam, kusursuz, birive, oyuncul...</td>\n",
       "    </tr>\n",
       "    <tr>\n",
       "      <th>...</th>\n",
       "      <td>...</td>\n",
       "      <td>...</td>\n",
       "      <td>...</td>\n",
       "      <td>...</td>\n",
       "      <td>...</td>\n",
       "      <td>...</td>\n",
       "    </tr>\n",
       "    <tr>\n",
       "      <th>83222</th>\n",
       "      <td>2.0</td>\n",
       "      <td>negatif</td>\n",
       "      <td>[ ,  ,  ,  ,  ,  ,  ,  ,  ,  ,  ,  ,  ,  ,  , ...</td>\n",
       "      <td>0.0</td>\n",
       "      <td>0.0</td>\n",
       "      <td>[böyle, bi, kadrodan, bçyle, bi, film, ne, den...</td>\n",
       "    </tr>\n",
       "    <tr>\n",
       "      <th>83223</th>\n",
       "      <td>2.0</td>\n",
       "      <td>negatif</td>\n",
       "      <td>[ ,  ,  ,  ,  ,  ,  ,  ,  ,  ,  ,  ,  ,  ,  , ...</td>\n",
       "      <td>0.0</td>\n",
       "      <td>0.0</td>\n",
       "      <td>[yani, bu, kaar, ii, oyuncalrın, ve, yönetmeni...</td>\n",
       "    </tr>\n",
       "    <tr>\n",
       "      <th>83224</th>\n",
       "      <td>1.0</td>\n",
       "      <td>negatif</td>\n",
       "      <td>[ ,  ,  ,  ,  ,  ,  ,  ,  ,  ,  ,  ,  ,  ,  , ...</td>\n",
       "      <td>0.0</td>\n",
       "      <td>0.0</td>\n",
       "      <td>[bugün, dvdsini, alıp, izledim, ama, inanılmaz...</td>\n",
       "    </tr>\n",
       "    <tr>\n",
       "      <th>83225</th>\n",
       "      <td>4.0</td>\n",
       "      <td>pozitif</td>\n",
       "      <td>[ ,  ,  ,  ,  ,  ,  ,  ,  ,  ,  ,  ,  ,  ,  , ...</td>\n",
       "      <td>0.0</td>\n",
       "      <td>0.0</td>\n",
       "      <td>[klasik, korku, ve, gerilim]</td>\n",
       "    </tr>\n",
       "    <tr>\n",
       "      <th>83226</th>\n",
       "      <td>4.0</td>\n",
       "      <td>pozitif</td>\n",
       "      <td>[ ,  ,  ,  ,  ,  ,  ,  ,  ,  ,  ,  ,  ,  ,  , ...</td>\n",
       "      <td>0.0</td>\n",
       "      <td>0.0</td>\n",
       "      <td>[bence, gereğinden, fazla, bir, eleştiri, aldı...</td>\n",
       "    </tr>\n",
       "  </tbody>\n",
       "</table>\n",
       "<p>83227 rows × 6 columns</p>\n",
       "</div>"
      ],
      "text/plain": [
       "       point sentiment                                            comment  \\\n",
       "0        5.0   pozitif  [ ,  ,  ,  ,  ,  ,  ,  ,  ,  ,  ,  ,  ,  ,  , ...   \n",
       "1        5.0   pozitif  [ ,  ,  ,  ,  ,  ,  ,  ,  ,  ,  ,  ,  ,  ,  , ...   \n",
       "2        5.0   pozitif  [ ,  ,  ,  ,  ,  ,  ,  ,  ,  ,  ,  ,  ,  ,  , ...   \n",
       "3        5.0   pozitif  [ ,  ,  ,  ,  ,  ,  ,  ,  ,  ,  ,  ,  ,  ,  , ...   \n",
       "4        5.0   pozitif  [ ,  ,  ,  ,  ,  ,  ,  ,  ,  ,  ,  ,  ,  ,  , ...   \n",
       "...      ...       ...                                                ...   \n",
       "83222    2.0   negatif  [ ,  ,  ,  ,  ,  ,  ,  ,  ,  ,  ,  ,  ,  ,  , ...   \n",
       "83223    2.0   negatif  [ ,  ,  ,  ,  ,  ,  ,  ,  ,  ,  ,  ,  ,  ,  , ...   \n",
       "83224    1.0   negatif  [ ,  ,  ,  ,  ,  ,  ,  ,  ,  ,  ,  ,  ,  ,  , ...   \n",
       "83225    4.0   pozitif  [ ,  ,  ,  ,  ,  ,  ,  ,  ,  ,  ,  ,  ,  ,  , ...   \n",
       "83226    4.0   pozitif  [ ,  ,  ,  ,  ,  ,  ,  ,  ,  ,  ,  ,  ,  ,  , ...   \n",
       "\n",
       "       polarity  subjectivity  \\\n",
       "0           0.5           1.0   \n",
       "1           0.0           0.0   \n",
       "2           0.0           0.0   \n",
       "3           0.0           0.0   \n",
       "4           0.0           0.0   \n",
       "...         ...           ...   \n",
       "83222       0.0           0.0   \n",
       "83223       0.0           0.0   \n",
       "83224       0.0           0.0   \n",
       "83225       0.0           0.0   \n",
       "83226       0.0           0.0   \n",
       "\n",
       "                                               tokenized  \n",
       "0      [jean, reno, denince, zaten, leon, filmi, geli...  \n",
       "1      [ekşın, falan, izlemek, istiyorsanız, eğer, bu...  \n",
       "2      [bu, yapım, hakkında, öyle, çok, şey, yazabili...  \n",
       "3      [finali, yeter, sting, shape, of, my, heartbaz...  \n",
       "4      [jean, renobu, adam, kusursuz, birive, oyuncul...  \n",
       "...                                                  ...  \n",
       "83222  [böyle, bi, kadrodan, bçyle, bi, film, ne, den...  \n",
       "83223  [yani, bu, kaar, ii, oyuncalrın, ve, yönetmeni...  \n",
       "83224  [bugün, dvdsini, alıp, izledim, ama, inanılmaz...  \n",
       "83225                       [klasik, korku, ve, gerilim]  \n",
       "83226  [bence, gereğinden, fazla, bir, eleştiri, aldı...  \n",
       "\n",
       "[83227 rows x 6 columns]"
      ]
     },
     "execution_count": 36,
     "metadata": {},
     "output_type": "execute_result"
    }
   ],
   "source": [
    "df"
   ]
  },
  {
   "cell_type": "code",
   "execution_count": null,
   "id": "6af151e1",
   "metadata": {},
   "outputs": [],
   "source": []
  },
  {
   "cell_type": "code",
   "execution_count": null,
   "id": "2c63b5e9",
   "metadata": {},
   "outputs": [],
   "source": []
  },
  {
   "cell_type": "code",
   "execution_count": null,
   "id": "cba087f1",
   "metadata": {},
   "outputs": [],
   "source": []
  },
  {
   "cell_type": "code",
   "execution_count": null,
   "id": "166ec830",
   "metadata": {},
   "outputs": [],
   "source": []
  },
  {
   "cell_type": "code",
   "execution_count": null,
   "id": "24a5e6c6",
   "metadata": {},
   "outputs": [],
   "source": []
  },
  {
   "cell_type": "code",
   "execution_count": null,
   "id": "1f2c38fe",
   "metadata": {},
   "outputs": [],
   "source": []
  },
  {
   "cell_type": "code",
   "execution_count": null,
   "id": "002335fa",
   "metadata": {},
   "outputs": [],
   "source": []
  },
  {
   "cell_type": "code",
   "execution_count": null,
   "id": "992346de",
   "metadata": {},
   "outputs": [],
   "source": []
  },
  {
   "cell_type": "code",
   "execution_count": null,
   "id": "69edb91b",
   "metadata": {},
   "outputs": [],
   "source": []
  }
 ],
 "metadata": {
  "kernelspec": {
   "display_name": "Python 3 (ipykernel)",
   "language": "python",
   "name": "python3"
  },
  "language_info": {
   "codemirror_mode": {
    "name": "ipython",
    "version": 3
   },
   "file_extension": ".py",
   "mimetype": "text/x-python",
   "name": "python",
   "nbconvert_exporter": "python",
   "pygments_lexer": "ipython3",
   "version": "3.9.12"
  }
 },
 "nbformat": 4,
 "nbformat_minor": 5
}
